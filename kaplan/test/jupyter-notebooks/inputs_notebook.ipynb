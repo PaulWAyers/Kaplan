{
 "cells": [
  {
   "cell_type": "code",
   "execution_count": 1,
   "metadata": {},
   "outputs": [
    {
     "name": "stderr",
     "output_type": "stream",
     "text": [
      "RDKit WARNING: [15:59:46] Enabling RDKit 2019.09.1 jupyter extensions\n"
     ]
    }
   ],
   "source": [
    "from kaplan.inputs import Inputs"
   ]
  },
  {
   "cell_type": "code",
   "execution_count": 2,
   "metadata": {},
   "outputs": [],
   "source": [
    "import os\n",
    "import numpy as np"
   ]
  },
  {
   "cell_type": "code",
   "execution_count": 3,
   "metadata": {},
   "outputs": [],
   "source": [
    "inputs = Inputs()"
   ]
  },
  {
   "cell_type": "code",
   "execution_count": 7,
   "metadata": {},
   "outputs": [],
   "source": [
    "input_dict = {\n",
    "    \"struct_input\": \"proline\",\n",
    "    \"struct_type\": \"name\",\n",
    "    \"charge\": 0,\n",
    "    \"multip\": 1,\n",
    "}"
   ]
  },
  {
   "cell_type": "code",
   "execution_count": 8,
   "metadata": {},
   "outputs": [
    {
     "name": "stdout",
     "output_type": "stream",
     "text": [
      "{'CanonicalSMILES': 'C1CC(NC1)C(=O)O', 'IsomericSMILES': 'C1CC(NC1)C(=O)O', 'InChI': 'InChI=1S/C5H9NO2/c7-5(8)4-2-1-3-6-4/h4,6H,1-3H2,(H,7,8)', 'InChIKey': 'ONIBWKKTOPOVIA-UHFFFAOYSA-N', 'IUPACName': 'pyrrolidine-2-carboxylic acid', 'Charge': '0', 'cid': '614', 'sdf': '614\\n  -OEChem-12081916103D\\n\\n 17 17  0     1  0  0  0  0  0999 V2000\\n   -2.2137    0.9468   -0.1657 O   0  0  0  0  0  0  0  0  0  0  0  0\\n   -1.7226   -1.1367    0.6179 O   0  0  0  0  0  0  0  0  0  0  0  0\\n    0.7304   -1.0853   -0.3656 N   0  0  0  0  0  0  0  0  0  0  0  0\\n   -0.0723    0.1103   -0.6221 C   0  0  2  0  0  0  0  0  0  0  0  0\\n    0.6784    1.2753    0.0145 C   0  0  0  0  0  0  0  0  0  0  0  0\\n    1.9016    0.6393    0.6566 C   0  0  0  0  0  0  0  0  0  0  0  0\\n    2.0995   -0.6264   -0.1511 C   0  0  0  0  0  0  0  0  0  0  0  0\\n   -1.4014   -0.1231    0.0155 C   0  0  0  0  0  0  0  0  0  0  0  0\\n   -0.2072    0.2589   -1.6993 H   0  0  0  0  0  0  0  0  0  0  0  0\\n    0.1012    1.8405    0.7534 H   0  0  0  0  0  0  0  0  0  0  0  0\\n    1.0021    1.9734   -0.7670 H   0  0  0  0  0  0  0  0  0  0  0  0\\n    2.7748    1.2975    0.6281 H   0  0  0  0  0  0  0  0  0  0  0  0\\n    1.6898    0.3955    1.7051 H   0  0  0  0  0  0  0  0  0  0  0  0\\n    2.5861   -0.4081   -1.1089 H   0  0  0  0  0  0  0  0  0  0  0  0\\n    2.6955   -1.3695    0.3856 H   0  0  0  0  0  0  0  0  0  0  0  0\\n    0.6799   -1.7366   -1.1469 H   0  0  0  0  0  0  0  0  0  0  0  0\\n   -3.0937    0.8126    0.2463 H   0  0  0  0  0  0  0  0  0  0  0  0\\n  1  8  1  0  0  0  0\\n  1 17  1  0  0  0  0\\n  2  8  2  0  0  0  0\\n  3  4  1  0  0  0  0\\n  3  7  1  0  0  0  0\\n  3 16  1  0  0  0  0\\n  4  5  1  0  0  0  0\\n  4  8  1  0  0  0  0\\n  4  9  1  0  0  0  0\\n  5  6  1  0  0  0  0\\n  5 10  1  0  0  0  0\\n  5 11  1  0  0  0  0\\n  6  7  1  0  0  0  0\\n  6 12  1  0  0  0  0\\n  6 13  1  0  0  0  0\\n  7 14  1  0  0  0  0\\n  7 15  1  0  0  0  0\\nM  END\\n> <PUBCHEM_COMPOUND_CID>\\n614\\n\\n> <PUBCHEM_CONFORMER_RMSD>\\n0.4\\n\\n> <PUBCHEM_CONFORMER_DIVERSEORDER>\\n1\\n2\\n3\\n4\\n\\n> <PUBCHEM_MMFF94_PARTIAL_CHARGES>\\n8\\n1 -0.65\\n16 0.36\\n17 0.5\\n2 -0.57\\n3 -0.9\\n4 0.33\\n7 0.27\\n8 0.66\\n\\n> <PUBCHEM_EFFECTIVE_ROTOR_COUNT>\\n2\\n\\n> <PUBCHEM_PHARMACOPHORE_FEATURES>\\n6\\n1 1 acceptor\\n1 2 acceptor\\n1 3 cation\\n1 3 donor\\n3 1 2 8 anion\\n5 3 4 5 6 7 rings\\n\\n> <PUBCHEM_HEAVY_ATOM_COUNT>\\n8\\n\\n> <PUBCHEM_ATOM_DEF_STEREO_COUNT>\\n0\\n\\n> <PUBCHEM_ATOM_UDEF_STEREO_COUNT>\\n1\\n\\n> <PUBCHEM_BOND_DEF_STEREO_COUNT>\\n0\\n\\n> <PUBCHEM_BOND_UDEF_STEREO_COUNT>\\n0\\n\\n> <PUBCHEM_ISOTOPIC_ATOM_COUNT>\\n0\\n\\n> <PUBCHEM_COMPONENT_COUNT>\\n1\\n\\n> <PUBCHEM_CACTVS_TAUTO_COUNT>\\n1\\n\\n> <PUBCHEM_CONFORMER_ID>\\n0000026600000001\\n\\n> <PUBCHEM_MMFF94_ENERGY>\\n5.3682\\n\\n> <PUBCHEM_FEATURE_SELFOVERLAP>\\n30.502\\n\\n> <PUBCHEM_SHAPE_FINGERPRINT>\\n10857977 72 18335975480092840840\\n20096714 4 18059570347202963900\\n21040471 1 18270677700817365756\\n23552423 10 18113623378259395166\\n24536 1 18261384602548072693\\n29004967 10 18412265034335638138\\n5084963 1 17845936367354760394\\n\\n> <PUBCHEM_SHAPE_MULTIPOLES>\\n147.92\\n2.86\\n1.26\\n0.75\\n0.39\\n0.06\\n-0.02\\n-0.01\\n-0.35\\n-0.03\\n-0.04\\n-0.04\\n-0.02\\n0.32\\n\\n> <PUBCHEM_SHAPE_SELFOVERLAP>\\n294.065\\n\\n> <PUBCHEM_SHAPE_VOLUME>\\n89.2\\n\\n> <PUBCHEM_COORDINATE_TYPE>\\n2\\n5\\n10\\n\\n$$$$\\n145742\\n  -OEChem-12081916103D\\n\\n 17 17  0     1  0  0  0  0  0999 V2000\\n    2.1617   -0.9509   -0.1119 O   0  0  0  0  0  0  0  0  0  0  0  0\\n    1.5688    1.2164   -0.4953 O   0  0  0  0  0  0  0  0  0  0  0  0\\n   -0.7807    0.9314    0.7770 N   0  0  0  0  0  0  0  0  0  0  0  0\\n    0.0834   -0.2476    0.7251 C   0  0  1  0  0  0  0  0  0  0  0  0\\n   -0.7235   -1.3171   -0.0031 C   0  0  0  0  0  0  0  0  0  0  0  0\\n   -1.9888   -0.6106   -0.4752 C   0  0  0  0  0  0  0  0  0  0  0  0\\n   -1.6499    0.8635   -0.3933 C   0  0  0  0  0  0  0  0  0  0  0  0\\n    1.3289    0.1149   -0.0235 C   0  0  0  0  0  0  0  0  0  0  0  0\\n    0.3625   -0.5522    1.7389 H   0  0  0  0  0  0  0  0  0  0  0  0\\n   -0.9873   -2.1429    0.6671 H   0  0  0  0  0  0  0  0  0  0  0  0\\n   -0.1919   -1.7411   -0.8624 H   0  0  0  0  0  0  0  0  0  0  0  0\\n   -2.2798   -0.9157   -1.4848 H   0  0  0  0  0  0  0  0  0  0  0  0\\n   -2.8187   -0.8485    0.2018 H   0  0  0  0  0  0  0  0  0  0  0  0\\n   -1.1204    1.1932   -1.2945 H   0  0  0  0  0  0  0  0  0  0  0  0\\n   -2.5424    1.4831   -0.2694 H   0  0  0  0  0  0  0  0  0  0  0  0\\n   -0.2509    1.8003    0.8023 H   0  0  0  0  0  0  0  0  0  0  0  0\\n    2.9837   -0.7341   -0.6014 H   0  0  0  0  0  0  0  0  0  0  0  0\\n  1  8  1  0  0  0  0\\n  1 17  1  0  0  0  0\\n  2  8  2  0  0  0  0\\n  3  4  1  0  0  0  0\\n  3  7  1  0  0  0  0\\n  3 16  1  0  0  0  0\\n  4  5  1  0  0  0  0\\n  4  8  1  0  0  0  0\\n  4  9  1  0  0  0  0\\n  5  6  1  0  0  0  0\\n  5 10  1  0  0  0  0\\n  5 11  1  0  0  0  0\\n  6  7  1  0  0  0  0\\n  6 12  1  0  0  0  0\\n  6 13  1  0  0  0  0\\n  7 14  1  0  0  0  0\\n  7 15  1  0  0  0  0\\nM  END\\n> <PUBCHEM_COMPOUND_CID>\\n145742\\n\\n> <PUBCHEM_CONFORMER_RMSD>\\n0.4\\n\\n> <PUBCHEM_CONFORMER_DIVERSEORDER>\\n1\\n3\\n4\\n2\\n\\n> <PUBCHEM_MMFF94_PARTIAL_CHARGES>\\n8\\n1 -0.65\\n16 0.36\\n17 0.5\\n2 -0.57\\n3 -0.9\\n4 0.33\\n7 0.27\\n8 0.66\\n\\n> <PUBCHEM_EFFECTIVE_ROTOR_COUNT>\\n2\\n\\n> <PUBCHEM_PHARMACOPHORE_FEATURES>\\n6\\n1 1 acceptor\\n1 2 acceptor\\n1 3 cation\\n1 3 donor\\n3 1 2 8 anion\\n5 3 4 5 6 7 rings\\n\\n> <PUBCHEM_HEAVY_ATOM_COUNT>\\n8\\n\\n> <PUBCHEM_ATOM_DEF_STEREO_COUNT>\\n1\\n\\n> <PUBCHEM_ATOM_UDEF_STEREO_COUNT>\\n0\\n\\n> <PUBCHEM_BOND_DEF_STEREO_COUNT>\\n0\\n\\n> <PUBCHEM_BOND_UDEF_STEREO_COUNT>\\n0\\n\\n> <PUBCHEM_ISOTOPIC_ATOM_COUNT>\\n0\\n\\n> <PUBCHEM_COMPONENT_COUNT>\\n1\\n\\n> <PUBCHEM_CACTVS_TAUTO_COUNT>\\n1\\n\\n> <PUBCHEM_CONFORMER_ID>\\n0002394E00000001\\n\\n> <PUBCHEM_MMFF94_ENERGY>\\n6.2424\\n\\n> <PUBCHEM_FEATURE_SELFOVERLAP>\\n30.502\\n\\n> <PUBCHEM_SHAPE_FINGERPRINT>\\n12897270 3 18193557997957459956\\n137420 1 8921595011813361833\\n16714656 1 18411980295268301895\\n18185500 45 18338511928700687402\\n20096714 4 18186800253443141793\\n21040471 1 18268420257358618345\\n23552423 10 18408319990646790694\\n24536 1 18336539507951190946\\n29004967 10 14189569754067799747\\n369184 2 14764342687340111614\\n5084963 1 18409164385622551131\\n\\n> <PUBCHEM_SHAPE_MULTIPOLES>\\n147.92\\n2.59\\n1.31\\n0.79\\n0.44\\n0.03\\n-0.08\\n0.1\\n0.55\\n-0.04\\n0.07\\n-0.08\\n-0.07\\n-0.12\\n\\n> <PUBCHEM_SHAPE_SELFOVERLAP>\\n294.274\\n\\n> <PUBCHEM_SHAPE_VOLUME>\\n89\\n\\n> <PUBCHEM_COORDINATE_TYPE>\\n2\\n5\\n10\\n\\n$$$$\\n8988\\n  -OEChem-12081916103D\\n\\n 17 17  0     1  0  0  0  0  0999 V2000\\n   -2.2137    0.9467   -0.1657 O   0  0  0  0  0  0  0  0  0  0  0  0\\n   -1.7225   -1.1368    0.6178 O   0  0  0  0  0  0  0  0  0  0  0  0\\n    0.7304   -1.0853   -0.3656 N   0  0  0  0  0  0  0  0  0  0  0  0\\n   -0.0723    0.1103   -0.6221 C   0  0  2  0  0  0  0  0  0  0  0  0\\n    0.6784    1.2753    0.0144 C   0  0  0  0  0  0  0  0  0  0  0  0\\n    1.9016    0.6393    0.6567 C   0  0  0  0  0  0  0  0  0  0  0  0\\n    2.0995   -0.6264   -0.1511 C   0  0  0  0  0  0  0  0  0  0  0  0\\n   -1.4014   -0.1231    0.0156 C   0  0  0  0  0  0  0  0  0  0  0  0\\n   -0.2073    0.2589   -1.6993 H   0  0  0  0  0  0  0  0  0  0  0  0\\n    0.1012    1.8406    0.7533 H   0  0  0  0  0  0  0  0  0  0  0  0\\n    1.0021    1.9733   -0.7671 H   0  0  0  0  0  0  0  0  0  0  0  0\\n    2.7748    1.2975    0.6281 H   0  0  0  0  0  0  0  0  0  0  0  0\\n    1.6897    0.3957    1.7051 H   0  0  0  0  0  0  0  0  0  0  0  0\\n    2.5862   -0.4082   -1.1089 H   0  0  0  0  0  0  0  0  0  0  0  0\\n    2.6954   -1.3695    0.3857 H   0  0  0  0  0  0  0  0  0  0  0  0\\n    0.6799   -1.7365   -1.1469 H   0  0  0  0  0  0  0  0  0  0  0  0\\n   -3.0938    0.8126    0.2463 H   0  0  0  0  0  0  0  0  0  0  0  0\\n  1  8  1  0  0  0  0\\n  1 17  1  0  0  0  0\\n  2  8  2  0  0  0  0\\n  3  4  1  0  0  0  0\\n  3  7  1  0  0  0  0\\n  3 16  1  0  0  0  0\\n  4  5  1  0  0  0  0\\n  4  8  1  0  0  0  0\\n  4  9  1  0  0  0  0\\n  5  6  1  0  0  0  0\\n  5 10  1  0  0  0  0\\n  5 11  1  0  0  0  0\\n  6  7  1  0  0  0  0\\n  6 12  1  0  0  0  0\\n  6 13  1  0  0  0  0\\n  7 14  1  0  0  0  0\\n  7 15  1  0  0  0  0\\nM  END\\n> <PUBCHEM_COMPOUND_CID>\\n8988\\n\\n> <PUBCHEM_CONFORMER_RMSD>\\n0.4\\n\\n> <PUBCHEM_CONFORMER_DIVERSEORDER>\\n1\\n4\\n5\\n3\\n2\\n\\n> <PUBCHEM_MMFF94_PARTIAL_CHARGES>\\n8\\n1 -0.65\\n16 0.36\\n17 0.5\\n2 -0.57\\n3 -0.9\\n4 0.33\\n7 0.27\\n8 0.66\\n\\n> <PUBCHEM_EFFECTIVE_ROTOR_COUNT>\\n2\\n\\n> <PUBCHEM_PHARMACOPHORE_FEATURES>\\n6\\n1 1 acceptor\\n1 2 acceptor\\n1 3 cation\\n1 3 donor\\n3 1 2 8 anion\\n5 3 4 5 6 7 rings\\n\\n> <PUBCHEM_HEAVY_ATOM_COUNT>\\n8\\n\\n> <PUBCHEM_ATOM_DEF_STEREO_COUNT>\\n1\\n\\n> <PUBCHEM_ATOM_UDEF_STEREO_COUNT>\\n0\\n\\n> <PUBCHEM_BOND_DEF_STEREO_COUNT>\\n0\\n\\n> <PUBCHEM_BOND_UDEF_STEREO_COUNT>\\n0\\n\\n> <PUBCHEM_ISOTOPIC_ATOM_COUNT>\\n0\\n\\n> <PUBCHEM_COMPONENT_COUNT>\\n1\\n\\n> <PUBCHEM_CACTVS_TAUTO_COUNT>\\n1\\n\\n> <PUBCHEM_CONFORMER_ID>\\n0000231C00000001\\n\\n> <PUBCHEM_MMFF94_ENERGY>\\n5.3688\\n\\n> <PUBCHEM_FEATURE_SELFOVERLAP>\\n30.502\\n\\n> <PUBCHEM_SHAPE_FINGERPRINT>\\n10857977 72 18335975480092840840\\n20096714 4 18059851822174406292\\n21040471 1 18270677700817365756\\n23552423 10 18113623378259395166\\n24536 1 18261384602548072693\\n29004967 10 18412265034335638138\\n5084963 1 17845936367354760394\\n\\n> <PUBCHEM_SHAPE_MULTIPOLES>\\n147.92\\n2.86\\n1.26\\n0.75\\n0.39\\n0.06\\n-0.02\\n-0.01\\n-0.35\\n-0.03\\n-0.04\\n-0.04\\n-0.02\\n0.32\\n\\n> <PUBCHEM_SHAPE_SELFOVERLAP>\\n294.065\\n\\n> <PUBCHEM_SHAPE_VOLUME>\\n89.2\\n\\n> <PUBCHEM_COORDINATE_TYPE>\\n2\\n5\\n10\\n\\n$$$$\\n'}\n",
      "Selecting dihedral angles.\n",
      "Done with inputs setup.\n"
     ]
    }
   ],
   "source": [
    "inputs.update_inputs(input_dict)"
   ]
  },
  {
   "cell_type": "code",
   "execution_count": 9,
   "metadata": {},
   "outputs": [
    {
     "name": "stdout",
     "output_type": "stream",
     "text": [
      "output_dir: /home/jenefre/Documents/githubcode/Kaplan/kaplan/test/jupyter-notebooks/kaplan_output/job_000016_proline\n",
      "name: proline\n",
      "prog: openbabel\n",
      "basis: sto-3g\n",
      "method: mmff94\n",
      "struct_input: proline\n",
      "struct_type: name\n",
      "charge: 0\n",
      "multip: 1\n",
      "no_ring_dihed: True\n",
      "min_dihed: True\n",
      "exclude_from_rmsd: None\n",
      "stop_at_conv: 0\n",
      "avail_diheds: [-3.14159265 -2.87979327 -2.61799388 -2.35619449 -2.0943951  -1.83259571\n",
      " -1.57079633 -1.30899694 -1.04719755 -0.78539816 -0.52359878 -0.26179939\n",
      "  0.          0.26179939  0.52359878  0.78539816  1.04719755  1.30899694\n",
      "  1.57079633  1.83259571  2.0943951   2.35619449  2.61799388  2.87979327]\n",
      "opt_init_geom: True\n",
      "major_tolerance: 1e-06\n",
      "major_maxsteps: 2500\n",
      "major_sampling: 100\n",
      "minor_tolerance: 0.1\n",
      "minor_maxsteps: 100\n",
      "minor_sampling: 10\n",
      "num_mevs: 100\n",
      "num_slots: 50\n",
      "init_popsize: 10\n",
      "mating_rad: 3\n",
      "num_geoms: 5\n",
      "num_swaps: 2\n",
      "num_muts: 2\n",
      "num_cross: 2\n",
      "max_cross_points: 1\n",
      "cross_points: None\n",
      "asteroid: 0.0\n",
      "plague: 0.0\n",
      "agathic: 0.0\n",
      "deluge: 0.0\n",
      "fit_form: 0\n",
      "coef_energy: 0.5\n",
      "coef_rmsd: 0.5\n",
      "normalise: True\n",
      "atomic_nums: [8, 8, 7, 6, 6, 6, 6, 6, 1, 1, 1, 1, 1, 1, 1, 1, 1]\n",
      "coords: [[-2.2137  0.9468 -0.1657]\n",
      " [-1.7226 -1.1367  0.6179]\n",
      " [ 0.7304 -1.0853 -0.3656]\n",
      " [-0.0723  0.1103 -0.6221]\n",
      " [ 0.6784  1.2753  0.0145]\n",
      " [ 1.9016  0.6393  0.6566]\n",
      " [ 2.0995 -0.6264 -0.1511]\n",
      " [-1.4014 -0.1231  0.0155]\n",
      " [-0.2072  0.2589 -1.6993]\n",
      " [ 0.1012  1.8405  0.7534]\n",
      " [ 1.0021  1.9734 -0.767 ]\n",
      " [ 2.7748  1.2975  0.6281]\n",
      " [ 1.6898  0.3955  1.7051]\n",
      " [ 2.5861 -0.4081 -1.1089]\n",
      " [ 2.6955 -1.3695  0.3856]\n",
      " [ 0.6799 -1.7366 -1.1469]\n",
      " [-3.0937  0.8126  0.2463]]\n",
      "num_diheds: 2\n",
      "diheds: [(2, 3, 7, 1), (16, 0, 7, 1)]\n",
      "extra: {}\n",
      "obmol: <openbabel.OBMol; proxy of <Swig Object of type 'OpenBabel::OBMol *' at 0x7fee4eeec510> >\n",
      "\n"
     ]
    }
   ],
   "source": [
    "print(inputs)"
   ]
  },
  {
   "cell_type": "code",
   "execution_count": 10,
   "metadata": {},
   "outputs": [
    {
     "data": {
      "text/plain": [
       "17"
      ]
     },
     "execution_count": 10,
     "metadata": {},
     "output_type": "execute_result"
    }
   ],
   "source": [
    "inputs.obmol.NumAtoms()"
   ]
  },
  {
   "cell_type": "code",
   "execution_count": null,
   "metadata": {},
   "outputs": [],
   "source": []
  }
 ],
 "metadata": {
  "kernelspec": {
   "display_name": "Python 3",
   "language": "python",
   "name": "python3"
  },
  "language_info": {
   "codemirror_mode": {
    "name": "ipython",
    "version": 3
   },
   "file_extension": ".py",
   "mimetype": "text/x-python",
   "name": "python",
   "nbconvert_exporter": "python",
   "pygments_lexer": "ipython3",
   "version": "3.7.3"
  }
 },
 "nbformat": 4,
 "nbformat_minor": 2
}
