{
 "cells": [
  {
   "cell_type": "markdown",
   "metadata": {},
   "source": [
    "# Purpose\n",
    "\n",
    "Figure out how to take an Openbabel molecule object and generate a set of minimum dihedral angles.\n",
    "\n",
    "# Method\n",
    "\n",
    "Starting with an exhaustive set of dihedrals, remove the duplicates s.t. there is only one dihedral per rotatable bond. Therefore, this produces one dihedral for each b,c in a a,b,c,d dihedral angle. The identities of a and d don't matter, but it may be preferential to use the indices for heavier atoms such as C,O instead of H."
   ]
  },
  {
   "cell_type": "code",
   "execution_count": 1,
   "metadata": {},
   "outputs": [
    {
     "name": "stderr",
     "output_type": "stream",
     "text": [
      "RDKit WARNING: [20:36:33] Enabling RDKit 2019.09.1 jupyter extensions\n"
     ]
    }
   ],
   "source": [
    "from kaplan.inputs import Inputs"
   ]
  },
  {
   "cell_type": "code",
   "execution_count": 2,
   "metadata": {},
   "outputs": [
    {
     "name": "stdout",
     "output_type": "stream",
     "text": [
      "Selecting dihedral angles.\n",
      "Done with inputs setup.\n"
     ]
    }
   ],
   "source": [
    "inputs = Inputs()\n",
    "inputs.update_inputs({\"struct_input\": \"butane\"})"
   ]
  },
  {
   "cell_type": "code",
   "execution_count": 3,
   "metadata": {},
   "outputs": [],
   "source": [
    "m = inputs.obmol"
   ]
  },
  {
   "cell_type": "code",
   "execution_count": 4,
   "metadata": {},
   "outputs": [
    {
     "data": {
      "text/plain": [
       "<openbabel.OBMol; proxy of <Swig Object of type 'OpenBabel::OBMol *' at 0x7f1b66631c60> >"
      ]
     },
     "execution_count": 4,
     "metadata": {},
     "output_type": "execute_result"
    }
   ],
   "source": [
    "m"
   ]
  },
  {
   "cell_type": "code",
   "execution_count": 5,
   "metadata": {},
   "outputs": [
    {
     "name": "stdout",
     "output_type": "stream",
     "text": [
      "<openbabel.OBMol; proxy of <Swig Object of type 'OpenBabel::OBMol *' at 0x7f1b66631c60> >\n"
     ]
    }
   ],
   "source": [
    "print(m)"
   ]
  },
  {
   "cell_type": "code",
   "execution_count": 10,
   "metadata": {},
   "outputs": [],
   "source": [
    "from kaplan.geometry import get_angles, get_torsions"
   ]
  },
  {
   "cell_type": "code",
   "execution_count": 11,
   "metadata": {},
   "outputs": [],
   "source": [
    "torsions = get_torsions(m)"
   ]
  },
  {
   "cell_type": "code",
   "execution_count": 12,
   "metadata": {},
   "outputs": [
    {
     "data": {
      "text/plain": [
       "[(8, 2, 0, 4, 1.068404989474897),\n",
       " (8, 2, 0, 1, -1.0526592728214157),\n",
       " (8, 2, 0, 5, 3.1082217953807962),\n",
       " (10, 2, 0, 4, -1.0215658602311113),\n",
       " (10, 2, 0, 1, 3.1405551846521624),\n",
       " (10, 2, 0, 5, 1.018250945674788),\n",
       " (9, 2, 0, 4, -3.111413345845887),\n",
       " (9, 2, 0, 1, 1.050707699037387),\n",
       " (9, 2, 0, 5, -1.0715965399399872),\n",
       " (11, 3, 1, 7, 1.0684979814362843),\n",
       " (11, 3, 1, 0, -1.0525729413005291),\n",
       " (11, 3, 1, 6, 3.1081898282106732),\n",
       " (12, 3, 1, 7, -1.0214598129925698),\n",
       " (12, 3, 1, 0, 3.1406545714502028),\n",
       " (12, 3, 1, 6, 1.0182320337818191),\n",
       " (13, 3, 1, 7, -3.1113304690556447),\n",
       " (13, 3, 1, 0, 1.0507839153871283),\n",
       " (13, 3, 1, 6, -1.0716386222812555),\n",
       " (4, 0, 1, 7, -1.1045851139024612),\n",
       " (4, 0, 1, 3, 1.00849296238523),\n",
       " (4, 0, 1, 6, 3.124335083296512),\n",
       " (2, 0, 1, 7, 1.0084377397768836),\n",
       " (2, 0, 1, 3, 3.1215158160645746),\n",
       " (2, 0, 1, 6, -1.04582737020373),\n",
       " (5, 0, 1, 7, 3.124217773957886),\n",
       " (5, 0, 1, 3, -1.045889456934009),\n",
       " (5, 0, 1, 6, 1.0699526639772732)]"
      ]
     },
     "execution_count": 12,
     "metadata": {},
     "output_type": "execute_result"
    }
   ],
   "source": [
    "torsions\n"
   ]
  },
  {
   "cell_type": "code",
   "execution_count": 13,
   "metadata": {},
   "outputs": [
    {
     "name": "stdout",
     "output_type": "stream",
     "text": [
      "[(2, 0, 1, 3), (1, 0, 2, 10), (0, 1, 3, 13)]\n"
     ]
    }
   ],
   "source": [
    "print(inputs.diheds)"
   ]
  },
  {
   "cell_type": "code",
   "execution_count": 14,
   "metadata": {},
   "outputs": [],
   "source": [
    "from kaplan.tools import plot_3d"
   ]
  },
  {
   "cell_type": "code",
   "execution_count": 16,
   "metadata": {},
   "outputs": [],
   "source": [
    "plot_3d()"
   ]
  },
  {
   "cell_type": "code",
   "execution_count": 19,
   "metadata": {},
   "outputs": [
    {
     "name": "stdout",
     "output_type": "stream",
     "text": [
      "[(2, 0), (3, 1), (0, 1)]\n"
     ]
    }
   ],
   "source": [
    "unique_bc = []  # list of tuples of atom indices\n",
    "connected_ad = []\n",
    "\n",
    "for dihed in torsions:\n",
    "    if dihed[1:3] not in unique_bc and dihed[2:0:-1] not in unique_bc:\n",
    "        unique_bc.append(dihed[1:3])\n",
    "print(unique_bc)"
   ]
  },
  {
   "cell_type": "code",
   "execution_count": 36,
   "metadata": {},
   "outputs": [],
   "source": [
    "atomic_num_sums = []\n",
    "for i, dihed in enumerate(torsions):\n",
    "    atomic_num_sums.append((sum([inputs.atomic_nums[dihed[0]], inputs.atomic_nums[dihed[1]],\n",
    "                               inputs.atomic_nums[dihed[2]], inputs.atomic_nums[dihed[3]]]), i))\n",
    "atomic_num_sums = sorted(atomic_num_sums, reverse=True)"
   ]
  },
  {
   "cell_type": "code",
   "execution_count": 37,
   "metadata": {
    "scrolled": true
   },
   "outputs": [
    {
     "name": "stdout",
     "output_type": "stream",
     "text": [
      "(2, 0, 1, 3, 3.1215158160645746)\n",
      "(5, 0, 1, 3, -1.045889456934009)\n",
      "(2, 0, 1, 6, -1.04582737020373)\n",
      "(2, 0, 1, 7, 1.0084377397768836)\n",
      "(4, 0, 1, 3, 1.00849296238523)\n",
      "(13, 3, 1, 0, 1.0507839153871283)\n",
      "(12, 3, 1, 0, 3.1406545714502028)\n",
      "(11, 3, 1, 0, -1.0525729413005291)\n",
      "(9, 2, 0, 1, 1.050707699037387)\n",
      "(10, 2, 0, 1, 3.1405551846521624)\n",
      "(8, 2, 0, 1, -1.0526592728214157)\n",
      "(5, 0, 1, 6, 1.0699526639772732)\n",
      "(5, 0, 1, 7, 3.124217773957886)\n",
      "(4, 0, 1, 6, 3.124335083296512)\n",
      "(4, 0, 1, 7, -1.1045851139024612)\n",
      "(13, 3, 1, 6, -1.0716386222812555)\n",
      "(13, 3, 1, 7, -3.1113304690556447)\n",
      "(12, 3, 1, 6, 1.0182320337818191)\n",
      "(12, 3, 1, 7, -1.0214598129925698)\n",
      "(11, 3, 1, 6, 3.1081898282106732)\n",
      "(11, 3, 1, 7, 1.0684979814362843)\n",
      "(9, 2, 0, 5, -1.0715965399399872)\n",
      "(9, 2, 0, 4, -3.111413345845887)\n",
      "(10, 2, 0, 5, 1.018250945674788)\n",
      "(10, 2, 0, 4, -1.0215658602311113)\n",
      "(8, 2, 0, 5, 3.1082217953807962)\n",
      "(8, 2, 0, 4, 1.068404989474897)\n"
     ]
    }
   ],
   "source": [
    "torsions_by_mass = []\n",
    "for i, torsion in enumerate(torsions):\n",
    "    torsions_by_mass.append(torsions[atomic_num_sums[i][1]])\n",
    "for t in torsions_by_mass:\n",
    "    print(t)"
   ]
  },
  {
   "cell_type": "code",
   "execution_count": 38,
   "metadata": {},
   "outputs": [
    {
     "name": "stdout",
     "output_type": "stream",
     "text": [
      "[(0, 1), (3, 1), (2, 0)]\n",
      "[(2, 0, 1, 3), (13, 3, 1, 0), (9, 2, 0, 1)]\n"
     ]
    }
   ],
   "source": [
    "min_diheds_new = []\n",
    "unique_bc = []\n",
    "for dihed in torsions_by_mass:\n",
    "    if dihed[1:3] not in unique_bc and dihed[2:0:-1] not in unique_bc:\n",
    "        unique_bc.append(dihed[1:3])\n",
    "        min_diheds_new.append(dihed[:4])\n",
    "print(unique_bc)\n",
    "print(min_diheds_new)"
   ]
  },
  {
   "cell_type": "code",
   "execution_count": 41,
   "metadata": {},
   "outputs": [],
   "source": [
    "def filter_duplicate_diheds(dihedrals_list, atomic_nums):\n",
    "    \"\"\"Remove duplicate dihedrals based on b-c rotatable bond.\n",
    "    \n",
    "    Parameters\n",
    "    ----------\n",
    "    dihedrals_list : list(tuple(int, int, int, int, float))\n",
    "        All possible dihedrals for a molecule.\n",
    "    atomic_nums : list(int)\n",
    "        Atomic numbers in order of index, 0-based.\n",
    "        For example: [1,1,6] means 0 H, 1 H, 2 C.\n",
    "    \n",
    "    Returns\n",
    "    -------\n",
    "    list(tuple(int, int, int, int))\n",
    "        Unique dihedrals with priority given to\n",
    "        highest atomic number sum.\n",
    "    \n",
    "    \"\"\"\n",
    "    atomic_num_sums = []\n",
    "    for i, dihed in enumerate(dihedrals_list):\n",
    "        atomic_num_sums.append((sum([atomic_nums[dihed[0]], atomic_nums[dihed[1]],\n",
    "                                     atomic_nums[dihed[2]], atomic_nums[dihed[3]]]), i))\n",
    "    atomic_num_sums = sorted(atomic_num_sums, reverse=True)\n",
    "    \n",
    "    dihedrals_by_mass = []\n",
    "    for i, dihed in enumerate(dihedrals_list):\n",
    "        dihedrals_by_mass.append(dihedrals_list[atomic_num_sums[i][1]])\n",
    "    \n",
    "    min_diheds_new = []\n",
    "    unique_bc = []\n",
    "    for dihed in dihedrals_by_mass:\n",
    "        if dihed[1:3] not in unique_bc and dihed[2:0:-1] not in unique_bc:\n",
    "            unique_bc.append(dihed[1:3])\n",
    "            min_diheds_new.append(dihed[:4])\n",
    "    return min_diheds_new"
   ]
  },
  {
   "cell_type": "code",
   "execution_count": 42,
   "metadata": {},
   "outputs": [],
   "source": [
    "result = filter_duplicate_diheds(torsions, inputs.atomic_nums)"
   ]
  },
  {
   "cell_type": "code",
   "execution_count": 43,
   "metadata": {},
   "outputs": [
    {
     "data": {
      "text/plain": [
       "[(2, 0, 1, 3), (13, 3, 1, 0), (9, 2, 0, 1)]"
      ]
     },
     "execution_count": 43,
     "metadata": {},
     "output_type": "execute_result"
    }
   ],
   "source": [
    "result"
   ]
  },
  {
   "cell_type": "code",
   "execution_count": null,
   "metadata": {},
   "outputs": [],
   "source": []
  }
 ],
 "metadata": {
  "kernelspec": {
   "display_name": "Python 3",
   "language": "python",
   "name": "python3"
  },
  "language_info": {
   "codemirror_mode": {
    "name": "ipython",
    "version": 3
   },
   "file_extension": ".py",
   "mimetype": "text/x-python",
   "name": "python",
   "nbconvert_exporter": "python",
   "pygments_lexer": "ipython3",
   "version": "3.7.3"
  }
 },
 "nbformat": 4,
 "nbformat_minor": 2
}
