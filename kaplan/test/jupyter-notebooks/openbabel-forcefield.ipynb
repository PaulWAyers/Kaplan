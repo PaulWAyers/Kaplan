{
 "cells": [
  {
   "cell_type": "code",
   "execution_count": 2,
   "metadata": {},
   "outputs": [],
   "source": [
    "import pybel\n",
    "import openbabel\n",
    "import numpy as np"
   ]
  },
  {
   "cell_type": "code",
   "execution_count": 21,
   "metadata": {},
   "outputs": [
    {
     "name": "stdout",
     "output_type": "stream",
     "text": [
      "Atom: 6 (0.90 -0.04 0.04)\n",
      "Atom: 6 (2.42 -0.03 0.06)\n",
      "Atom: 6 (2.97 0.70 1.28)\n",
      "Atom: 6 (4.49 0.70 1.29)\n",
      "Atom: 1 (0.53 -0.57 -0.84)\n",
      "Atom: 1 (0.51 0.98 0.02)\n",
      "Atom: 1 (0.51 -0.55 0.93)\n",
      "Atom: 1 (2.79 0.45 -0.86)\n",
      "Atom: 1 (2.79 -1.07 0.04)\n",
      "Atom: 1 (2.60 0.21 2.20)\n",
      "Atom: 1 (2.60 1.73 1.29)\n",
      "Atom: 1 (4.88 -0.32 1.31)\n",
      "Atom: 1 (4.86 1.23 2.18)\n",
      "Atom: 1 (4.88 1.21 0.41)\n"
     ]
    }
   ],
   "source": [
    "mol = pybel.readstring(\"smi\", \"CCCC\")\n",
    "mol.make3D()\n",
    "for atom in mol:\n",
    "    print(atom)"
   ]
  },
  {
   "cell_type": "code",
   "execution_count": 15,
   "metadata": {},
   "outputs": [],
   "source": [
    "x = mol.OBMol.GetAtom(1).x()"
   ]
  },
  {
   "cell_type": "code",
   "execution_count": 16,
   "metadata": {},
   "outputs": [
    {
     "name": "stdout",
     "output_type": "stream",
     "text": [
      "0.9003783942423311\n"
     ]
    }
   ],
   "source": [
    "print(x)"
   ]
  },
  {
   "cell_type": "code",
   "execution_count": 5,
   "metadata": {},
   "outputs": [],
   "source": [
    "forcefields = pybel.forcefields"
   ]
  },
  {
   "cell_type": "code",
   "execution_count": 6,
   "metadata": {},
   "outputs": [
    {
     "data": {
      "text/plain": [
       "['gaff', 'ghemical', 'mmff94', 'mmff94s', 'uff']"
      ]
     },
     "execution_count": 6,
     "metadata": {},
     "output_type": "execute_result"
    }
   ],
   "source": [
    "forcefields"
   ]
  },
  {
   "cell_type": "code",
   "execution_count": 17,
   "metadata": {},
   "outputs": [],
   "source": [
    "ff_instance = pybel.ob.OBForceField.FindForceField(\"mmff94\")"
   ]
  },
  {
   "cell_type": "code",
   "execution_count": 18,
   "metadata": {},
   "outputs": [
    {
     "data": {
      "text/plain": [
       "True"
      ]
     },
     "execution_count": 18,
     "metadata": {},
     "output_type": "execute_result"
    }
   ],
   "source": [
    "ff_instance.Setup(mol.OBMol)"
   ]
  },
  {
   "cell_type": "code",
   "execution_count": 19,
   "metadata": {},
   "outputs": [],
   "source": [
    "e = ff_instance.Energy(False)"
   ]
  },
  {
   "cell_type": "code",
   "execution_count": 20,
   "metadata": {},
   "outputs": [
    {
     "data": {
      "text/plain": [
       "-5.074118008751814"
      ]
     },
     "execution_count": 20,
     "metadata": {},
     "output_type": "execute_result"
    }
   ],
   "source": [
    "e # in kcal/mol"
   ]
  },
  {
   "cell_type": "code",
   "execution_count": null,
   "metadata": {},
   "outputs": [],
   "source": [
    "# jen note:\n",
    "# windows installation of openbabel in miniconda did not work\n",
    "# the setup function failed\n",
    "# the obenergy in the terminal in windows also did not work\n",
    "# gave several errors for missing components\n",
    "# same input worked just fine for ubuntu...<sigh>\n",
    "# only issue with this is that it will require an xyz file to work\n",
    "\n",
    "\n",
    "# aside\n",
    "# idea: set new vetee env with my version to test\n",
    "# API with Kaplan; keep old vetee env with kaplan\n",
    "# in case transfer to new API goes poorly"
   ]
  },
  {
   "cell_type": "code",
   "execution_count": 22,
   "metadata": {},
   "outputs": [],
   "source": [
    "# now try the same procedure except first\n",
    "# the coordinates must be set manually (so we\n",
    "# can calculate the energy of a given conformer)"
   ]
  },
  {
   "cell_type": "code",
   "execution_count": 31,
   "metadata": {},
   "outputs": [
    {
     "ename": "TypeError",
     "evalue": "in method 'OBAtom_SetVector', argument 2 of type 'OpenBabel::vector3 const &'",
     "output_type": "error",
     "traceback": [
      "\u001b[0;31m---------------------------------------------------------------------------\u001b[0m",
      "\u001b[0;31mTypeError\u001b[0m                                 Traceback (most recent call last)",
      "\u001b[0;32m<ipython-input-31-dc37f1c99a2e>\u001b[0m in \u001b[0;36m<module>\u001b[0;34m\u001b[0m\n\u001b[1;32m      3\u001b[0m \u001b[0;32mfor\u001b[0m \u001b[0mi\u001b[0m \u001b[0;32min\u001b[0m \u001b[0mrange\u001b[0m\u001b[0;34m(\u001b[0m\u001b[0mnum_atoms\u001b[0m\u001b[0;34m)\u001b[0m\u001b[0;34m:\u001b[0m\u001b[0;34m\u001b[0m\u001b[0;34m\u001b[0m\u001b[0m\n\u001b[1;32m      4\u001b[0m     \u001b[0matom\u001b[0m \u001b[0;34m=\u001b[0m \u001b[0mpybel\u001b[0m\u001b[0;34m.\u001b[0m\u001b[0mob\u001b[0m\u001b[0;34m.\u001b[0m\u001b[0mOBAtom\u001b[0m\u001b[0;34m(\u001b[0m\u001b[0;34m)\u001b[0m\u001b[0;34m\u001b[0m\u001b[0;34m\u001b[0m\u001b[0m\n\u001b[0;32m----> 5\u001b[0;31m     \u001b[0matom\u001b[0m\u001b[0;34m.\u001b[0m\u001b[0mSetVector\u001b[0m\u001b[0;34m(\u001b[0m\u001b[0mcoords\u001b[0m\u001b[0;34m[\u001b[0m\u001b[0mi\u001b[0m\u001b[0;34m]\u001b[0m\u001b[0;34m)\u001b[0m\u001b[0;34m\u001b[0m\u001b[0;34m\u001b[0m\u001b[0m\n\u001b[0m\u001b[1;32m      6\u001b[0m     \u001b[0;32mif\u001b[0m \u001b[0mi\u001b[0m \u001b[0;34m<\u001b[0m \u001b[0;36m4\u001b[0m\u001b[0;34m:\u001b[0m\u001b[0;34m\u001b[0m\u001b[0;34m\u001b[0m\u001b[0m\n\u001b[1;32m      7\u001b[0m         \u001b[0matom\u001b[0m\u001b[0;34m.\u001b[0m\u001b[0mSetAtomicNum\u001b[0m\u001b[0;34m(\u001b[0m\u001b[0;36m6\u001b[0m\u001b[0;34m)\u001b[0m\u001b[0;34m\u001b[0m\u001b[0;34m\u001b[0m\u001b[0m\n",
      "\u001b[0;31mTypeError\u001b[0m: in method 'OBAtom_SetVector', argument 2 of type 'OpenBabel::vector3 const &'"
     ]
    }
   ],
   "source": [
    "num_atoms = 14\n",
    "mol = pybel.ob.OBMol()\n",
    "for i in range(num_atoms):\n",
    "    atom = pybel.ob.OBAtom()\n",
    "    atom.SetVector(coords[i])\n",
    "    if i < 4:\n",
    "        atom.SetAtomicNum(6)\n",
    "    else:\n",
    "        atom.SetAtomicNum(1)"
   ]
  },
  {
   "cell_type": "code",
   "execution_count": 46,
   "metadata": {},
   "outputs": [
    {
     "name": "stdout",
     "output_type": "stream",
     "text": [
      "1.00461678470296 -0.03571314528267805 -0.07894247658819051\n",
      "1.00461678470296\n"
     ]
    },
    {
     "ename": "TypeError",
     "evalue": "'tuple' object does not support item assignment",
     "output_type": "error",
     "traceback": [
      "\u001b[0;31m---------------------------------------------------------------------------\u001b[0m",
      "\u001b[0;31mTypeError\u001b[0m                                 Traceback (most recent call last)",
      "\u001b[0;32m<ipython-input-46-443b9b1d96d4>\u001b[0m in \u001b[0;36m<module>\u001b[0;34m\u001b[0m\n\u001b[1;32m      5\u001b[0m     \u001b[0mprint\u001b[0m\u001b[0;34m(\u001b[0m\u001b[0mx\u001b[0m\u001b[0;34m,\u001b[0m\u001b[0my\u001b[0m\u001b[0;34m,\u001b[0m\u001b[0mz\u001b[0m\u001b[0;34m)\u001b[0m\u001b[0;34m\u001b[0m\u001b[0;34m\u001b[0m\u001b[0m\n\u001b[1;32m      6\u001b[0m     \u001b[0mprint\u001b[0m\u001b[0;34m(\u001b[0m\u001b[0matom\u001b[0m\u001b[0;34m.\u001b[0m\u001b[0mcoords\u001b[0m\u001b[0;34m[\u001b[0m\u001b[0;36m0\u001b[0m\u001b[0;34m]\u001b[0m\u001b[0;34m)\u001b[0m\u001b[0;34m\u001b[0m\u001b[0;34m\u001b[0m\u001b[0m\n\u001b[0;32m----> 7\u001b[0;31m     \u001b[0matom\u001b[0m\u001b[0;34m.\u001b[0m\u001b[0mcoords\u001b[0m\u001b[0;34m[\u001b[0m\u001b[0;36m0\u001b[0m\u001b[0;34m]\u001b[0m \u001b[0;34m=\u001b[0m \u001b[0mcoords\u001b[0m\u001b[0;34m[\u001b[0m\u001b[0mi\u001b[0m\u001b[0;34m]\u001b[0m\u001b[0;34m[\u001b[0m\u001b[0;36m0\u001b[0m\u001b[0;34m]\u001b[0m\u001b[0;34m\u001b[0m\u001b[0;34m\u001b[0m\u001b[0m\n\u001b[0m\u001b[1;32m      8\u001b[0m     \u001b[0mprint\u001b[0m\u001b[0;34m(\u001b[0m\u001b[0matom\u001b[0m\u001b[0;34m.\u001b[0m\u001b[0mcoords\u001b[0m\u001b[0;34m)\u001b[0m\u001b[0;34m\u001b[0m\u001b[0;34m\u001b[0m\u001b[0m\n",
      "\u001b[0;31mTypeError\u001b[0m: 'tuple' object does not support item assignment"
     ]
    }
   ],
   "source": [
    "mol = pybel.readstring(\"smi\", \"CCCC\")\n",
    "mol.make3D()\n",
    "obmol = mol.OBMol\n",
    "for i, atom in enumerate(mol):\n",
    "    x,y,z = atom.coords\n",
    "    print(x,y,z)\n",
    "    print(atom.coords[0])\n",
    "    atom.coords[0] = coords[i][0]\n",
    "    print(atom.coords)"
   ]
  },
  {
   "cell_type": "code",
   "execution_count": 6,
   "metadata": {},
   "outputs": [
    {
     "ename": "AttributeError",
     "evalue": "'OBMol' object has no attribute 'SetVector'",
     "output_type": "error",
     "traceback": [
      "\u001b[0;31m---------------------------------------------------------------------------\u001b[0m",
      "\u001b[0;31mAttributeError\u001b[0m                            Traceback (most recent call last)",
      "\u001b[0;32m<ipython-input-6-a7be4b0d910e>\u001b[0m in \u001b[0;36m<module>\u001b[0;34m\u001b[0m\n\u001b[1;32m      3\u001b[0m \u001b[0mobmol\u001b[0m \u001b[0;34m=\u001b[0m \u001b[0mmol\u001b[0m\u001b[0;34m.\u001b[0m\u001b[0mOBMol\u001b[0m\u001b[0;34m\u001b[0m\u001b[0;34m\u001b[0m\u001b[0m\n\u001b[1;32m      4\u001b[0m \u001b[0;32mfor\u001b[0m \u001b[0mi\u001b[0m\u001b[0;34m,\u001b[0m \u001b[0matom\u001b[0m \u001b[0;32min\u001b[0m \u001b[0menumerate\u001b[0m\u001b[0;34m(\u001b[0m\u001b[0mmol\u001b[0m\u001b[0;34m)\u001b[0m\u001b[0;34m:\u001b[0m\u001b[0;34m\u001b[0m\u001b[0;34m\u001b[0m\u001b[0m\n\u001b[0;32m----> 5\u001b[0;31m     \u001b[0mobmol\u001b[0m\u001b[0;34m.\u001b[0m\u001b[0mSetVector\u001b[0m\u001b[0;34m(\u001b[0m\u001b[0mcoords\u001b[0m\u001b[0;34m[\u001b[0m\u001b[0mi\u001b[0m\u001b[0;34m]\u001b[0m\u001b[0;34m)\u001b[0m\u001b[0;34m\u001b[0m\u001b[0;34m\u001b[0m\u001b[0m\n\u001b[0m",
      "\u001b[0;31mAttributeError\u001b[0m: 'OBMol' object has no attribute 'SetVector'"
     ]
    }
   ],
   "source": [
    "mol = pybel.readstring(\"smi\", \"CCCC\")\n",
    "mol.make3D()\n",
    "obmol = mol.OBMol\n",
    "for i, atom in enumerate(mol):\n",
    "    obmol.SetVector(coords[i])"
   ]
  },
  {
   "cell_type": "code",
   "execution_count": 55,
   "metadata": {},
   "outputs": [],
   "source": [
    "# generate an openbabel molecule\n",
    "obmol = openbabel.OBMol()\n",
    "# add coordinates for each atom\n",
    "for i, atom in enumerate(coords):\n",
    "    obatom = openbabel.OBAtom()\n",
    "    if i < 4:\n",
    "        atomicnum = 6\n",
    "    else:\n",
    "        atomicnum = 1\n",
    "    obatom.SetAtomicNum(atomicnum)\n",
    "    obatom.SetVector(coords[i][0], coords[i][1], coords[i][2])\n",
    "    obmol.AddAtom(obatom)\n",
    "# set charge, multiplicity, and comments (title)\n",
    "obmol.SetTotalCharge(0)\n",
    "obmol.SetTotalSpinMultiplicity(1)\n",
    "obmol.SetTitle(\"test butane\")"
   ]
  },
  {
   "cell_type": "code",
   "execution_count": 52,
   "metadata": {},
   "outputs": [],
   "source": [
    "ff_instance = pybel.ob.OBForceField.FindForceField(\"mmff94\")"
   ]
  },
  {
   "cell_type": "code",
   "execution_count": 1,
   "metadata": {},
   "outputs": [
    {
     "ename": "NameError",
     "evalue": "name 'ff_instance' is not defined",
     "output_type": "error",
     "traceback": [
      "\u001b[0;31m---------------------------------------------------------------------------\u001b[0m",
      "\u001b[0;31mNameError\u001b[0m                                 Traceback (most recent call last)",
      "\u001b[0;32m<ipython-input-1-e78aebbdba15>\u001b[0m in \u001b[0;36m<module>\u001b[0;34m\u001b[0m\n\u001b[0;32m----> 1\u001b[0;31m \u001b[0mff_instance\u001b[0m\u001b[0;34m.\u001b[0m\u001b[0mSetup\u001b[0m\u001b[0;34m(\u001b[0m\u001b[0mobmol\u001b[0m\u001b[0;34m)\u001b[0m\u001b[0;34m\u001b[0m\u001b[0;34m\u001b[0m\u001b[0m\n\u001b[0m",
      "\u001b[0;31mNameError\u001b[0m: name 'ff_instance' is not defined"
     ]
    }
   ],
   "source": [
    "ff_instance.Setup(obmol)"
   ]
  },
  {
   "cell_type": "code",
   "execution_count": 56,
   "metadata": {},
   "outputs": [
    {
     "data": {
      "text/plain": [
       "True"
      ]
     },
     "execution_count": 56,
     "metadata": {},
     "output_type": "execute_result"
    }
   ],
   "source": [
    "obmol.AddHydrogens()"
   ]
  },
  {
   "cell_type": "code",
   "execution_count": 2,
   "metadata": {},
   "outputs": [],
   "source": [
    "# note:\n",
    "# combine obmol setup and readstring\n",
    "# to create a molecule with new coordinates\n",
    "# hopefully this will work"
   ]
  },
  {
   "cell_type": "code",
   "execution_count": 10,
   "metadata": {},
   "outputs": [],
   "source": [
    "pybel_mol = pybel.readstring(\"smi\", \"CCCC\")\n",
    "pybel_mol.make3D()\n",
    "obabel_mol = pybel_mol.OBMol"
   ]
  },
  {
   "cell_type": "code",
   "execution_count": 40,
   "metadata": {},
   "outputs": [
    {
     "name": "stdout",
     "output_type": "stream",
     "text": [
      "6 12.0107 1\n",
      "6 12.0107 2\n",
      "6 12.0107 3\n",
      "6 12.0107 4\n",
      "1 1.00794 5\n",
      "1 1.00794 6\n",
      "1 1.00794 7\n",
      "1 1.00794 8\n",
      "1 1.00794 9\n",
      "1 1.00794 10\n",
      "1 1.00794 11\n",
      "1 1.00794 12\n",
      "1 1.00794 13\n",
      "1 1.00794 14\n"
     ]
    }
   ],
   "source": [
    "for obatom in openbabel.OBMolAtomIter(obabel_mol):\n",
    "    print(obatom.GetAtomicNum(), obatom.GetAtomicMass(),\n",
    "          obatom.GetIdx())"
   ]
  },
  {
   "cell_type": "code",
   "execution_count": null,
   "metadata": {},
   "outputs": [],
   "source": [
    "# jen notes\n",
    "# the bond angles and torsions are given in indices\n",
    "# not clear whether these indices correspond\n",
    "# to the idx for the atom (idx seems to go from 1-number\n",
    "# of atoms)\n",
    "# looking at atomic connections, the idx is +1 from index"
   ]
  },
  {
   "cell_type": "code",
   "execution_count": null,
   "metadata": {},
   "outputs": [],
   "source": [
    "obmol = openbabel.OBMol()\n",
    "for atom in range(14):\n",
    "    atom = openbabel.OBAtom()\n",
    "    "
   ]
  },
  {
   "cell_type": "code",
   "execution_count": 43,
   "metadata": {},
   "outputs": [],
   "source": [
    "just_carbons = pybel.readstring(\"smi\", \"CCCC\")"
   ]
  },
  {
   "cell_type": "code",
   "execution_count": 44,
   "metadata": {},
   "outputs": [
    {
     "name": "stdout",
     "output_type": "stream",
     "text": [
      "(0, 1, 2, 3)\n"
     ]
    }
   ],
   "source": [
    "for t in openbabel.OBMolTorsionIter(just_carbons.OBMol):\n",
    "    print(t)\n",
    "# interestingly, only one torsion angle for n-butane\n",
    "# when hydrogens are ignored"
   ]
  },
  {
   "cell_type": "code",
   "execution_count": 45,
   "metadata": {},
   "outputs": [],
   "source": [
    "# test with benzene\n",
    "# using kekule form\n",
    "benzene = pybel.readstring(\"smi\", \"C1=CC=CC=C1\")"
   ]
  },
  {
   "cell_type": "code",
   "execution_count": 46,
   "metadata": {},
   "outputs": [
    {
     "name": "stdout",
     "output_type": "stream",
     "text": [
      "(5, 0, 1, 2)\n",
      "(0, 1, 2, 3)\n",
      "(1, 2, 3, 4)\n",
      "(2, 3, 4, 5)\n",
      "(3, 4, 5, 0)\n",
      "(1, 0, 5, 4)\n"
     ]
    }
   ],
   "source": [
    "for t in openbabel.OBMolTorsionIter(benzene.OBMol):\n",
    "    print(t)"
   ]
  },
  {
   "cell_type": "code",
   "execution_count": 55,
   "metadata": {},
   "outputs": [
    {
     "name": "stdout",
     "output_type": "stream",
     "text": [
      "<openbabel.OBRing; proxy of <Swig Object of type 'OpenBabel::OBRing *' at 0x7fc5eac9ac60> >\n",
      "6\n",
      "True\n",
      "benzene\n",
      "6\n",
      "True\n",
      "True\n",
      "True\n",
      "True\n",
      "True\n",
      "True\n"
     ]
    }
   ],
   "source": [
    "# see if it detected the ring\n",
    "for r in openbabel.OBMolRingIter(benzene.OBMol):\n",
    "    print(r) # obring object\n",
    "    print(r.Size()) # 6, as expected\n",
    "    print(r.IsAromatic()) # True\n",
    "    # somehow knows benzene is aromatic! nice\n",
    "    print(r.GetType()) # benzene\n",
    "    print(r.PathSize()) # 6\n",
    "    for atom in openbabel.OBMolAtomIter(benzene.OBMol):\n",
    "        print(r.IsInRing(atom.GetIdx()))\n",
    "    \n",
    "    "
   ]
  },
  {
   "cell_type": "code",
   "execution_count": 56,
   "metadata": {},
   "outputs": [],
   "source": [
    "# now try to reproduce a molecule\n",
    "orig_mol = pybel.readstring(\"smi\", \"CCCC\").OBMol\n",
    "# add this stage you can find the backbone (since\n",
    "# mol does not have hydrogens) and rings\n",
    "# essentially determine which dihedral angles\n",
    "# are important"
   ]
  },
  {
   "cell_type": "code",
   "execution_count": 63,
   "metadata": {},
   "outputs": [],
   "source": [
    "orig_mol_wH = pybel.readstring(\"smi\", \"CCCC\")\n",
    "orig_mol_wH.make3D()\n",
    "orig_mol_wH = orig_mol_wH.OBMol"
   ]
  },
  {
   "cell_type": "code",
   "execution_count": 70,
   "metadata": {},
   "outputs": [],
   "source": [
    "# details for OBMol::BeginModify()\n",
    "# Call when making many modifications – clears conformer/rotomer\n",
    "# data. The method \"turns off\" perception routines, improving\n",
    "# performance. Changes in molecular structure will be\n",
    "# re-considered after modifications.\n",
    "\n",
    "# add atoms\n",
    "for i, atom in enumerate(openbabel.OBMolAtomIter(orig_mol_wH)):\n",
    "    newatom = openbabel.OBAtom()\n",
    "    newatom.SetAtomicNum(atom.GetAtomicNum())\n",
    "    # needs to be explicit (doesn't accept tuple, list, np.array)\n",
    "    newatom.SetVector(coords[i][0], coords[i][1], coords[i][2])"
   ]
  },
  {
   "cell_type": "code",
   "execution_count": 23,
   "metadata": {},
   "outputs": [],
   "source": [
    "def get_bonds_list(obmol):\n",
    "    \"\"\"Get a list of bonds from an openbabel molecule.\n",
    "    \n",
    "    Parameters\n",
    "    ----------\n",
    "    obmol : openbabel.OBMol object\n",
    "    \n",
    "    Returns\n",
    "    -------\n",
    "    bonds_list : list()\n",
    "        Each element is a tuple of 3 integers:\n",
    "        atom1 index, atom2 index, and bond order.\n",
    "    \n",
    "    \"\"\"\n",
    "    # this is how we iterate over the bonds in the\n",
    "    # molecule and find out which atoms are connected\n",
    "    # to one another\n",
    "    bonds_list = []\n",
    "    for obbond in openbabel.OBMolBondIter(obmol):\n",
    "        #bond_len = obbond.GetLength()\n",
    "        atom1 = obbond.GetBeginAtom().GetIdx()-1\n",
    "        atom2 = obbond.GetEndAtom().GetIdx()-1\n",
    "        bond_order = obbond.GetBondOrder()\n",
    "        bonds_list.append((atom1, atom2, bond_order))\n",
    "    return bonds_list"
   ]
  },
  {
   "cell_type": "code",
   "execution_count": 24,
   "metadata": {},
   "outputs": [],
   "source": [
    "def get_angles_list(obmol):\n",
    "    \"\"\"Get a list of angles from an openbabel molecule.\n",
    "    \n",
    "    Parameters\n",
    "    ----------\n",
    "    obmol : openbabel.OBMol object\n",
    "    \n",
    "    Returns\n",
    "    -------\n",
    "    angles_list : list()\n",
    "        Each element in the list is a tuple of 3 integers,\n",
    "        each integer representing an atom index. The first\n",
    "        index is the bond vertex. Example: [(a,b,c)] means\n",
    "        c - a - b is the angle.\n",
    "    \n",
    "    \"\"\"\n",
    "    angles_list = []\n",
    "    for obangle in openbabel.OBMolAngleIter(obmol):\n",
    "        angles_list.append(obangle) \n",
    "        # note obangle is just a tuple not an ob object\n",
    "    return angles_list"
   ]
  },
  {
   "cell_type": "code",
   "execution_count": 25,
   "metadata": {},
   "outputs": [],
   "source": [
    "def get_torsion_list(obmol):\n",
    "    \"\"\"Get a list of torsion angles from an openbabel molecule.\n",
    "    \n",
    "    Parameters\n",
    "    ----------\n",
    "    obmol : openbabel.OBMol object\n",
    "    \n",
    "    Returns\n",
    "    -------\n",
    "    torsion_list : list()\n",
    "        Each element in the list is a tuple of 4 integers,\n",
    "        each integer representing an atom index. Example:\n",
    "        [(a,b,c,d)] means a-b-c-d is the torsion (dihedral)\n",
    "        angle.\n",
    "    \n",
    "    \"\"\"\n",
    "    torsion_list = []\n",
    "    for obtorsion in openbabel.OBMolTorsionIter(obmol):\n",
    "        torsion_list.append(obtorsion) \n",
    "        # again, obtorsion is a tuple object, not ob object\n",
    "    return torsion_list"
   ]
  },
  {
   "cell_type": "code",
   "execution_count": 30,
   "metadata": {},
   "outputs": [],
   "source": [
    "def new_from_coords(orig_mol, coords):\n",
    "    \"\"\"Generate a new openbabel molecule from an existing mol.\n",
    "    \n",
    "    Parameters\n",
    "    ----------\n",
    "    orig_mol : openbabel.OBMol object\n",
    "        The original openbabel molecule to use (for bonds,\n",
    "        angles, atomic numbers, torsion angles, and rings).\n",
    "        Should already have hydrogens added and be 3D.\n",
    "    coords : np.array(shape=(num_atoms, 3), dtype=\"float\")\n",
    "        The coordinates to create the new molecule with.\n",
    "    \n",
    "    Notes\n",
    "    -----\n",
    "    If I can figure out how to modify an openbabel molecule\n",
    "    by changing a dihedral value, then this function will\n",
    "    become unnecessary.\n",
    "    \n",
    "    Returns\n",
    "    -------\n",
    "    new_mol : openbabel.OBMol object\n",
    "        Has the same connections as the orig_mol, except\n",
    "        with new coordinates.\n",
    "    \n",
    "    \"\"\"\n",
    "    # new molecule we have coordinates for already\n",
    "    new_mol = openbabel.OBMol()\n",
    "    new_mol.BeginModify()\n",
    "    \n",
    "    # add atoms\n",
    "    for i, atom in enumerate(openbabel.OBMolAtomIter(orig_mol)):\n",
    "        newatom = openbabel.OBAtom()\n",
    "        newatom.SetAtomicNum(atom.GetAtomicNum())\n",
    "        # needs to be explicit (doesn't accept tuple, list, np.array)\n",
    "        newatom.SetVector(coords[i][0], coords[i][1], coords[i][2])\n",
    "        # add atom instance to mol instance (returns True if successful)\n",
    "        result = new_mol.AddAtom(newatom)\n",
    "        if not result:\n",
    "            print(newatom.GetVector(), newatom.Idx(), newatom.GetAtomicNum())\n",
    "            raise ValueError(\"Unable to add atom to molecule\")\n",
    "    # add bonds\n",
    "    for atom1, atom2, BO in get_bonds_list(orig_mol):\n",
    "        # needs +1 since AddBond accepts Idx as input\n",
    "        result = new_mol.AddBond(atom1+1, atom2+1, BO)\n",
    "        if not result:\n",
    "            print(atom1+1, atom2+1, BO)\n",
    "            raise ValueError(\"Unable to add bond to molecule\")\n",
    "    \n",
    "    # done creating molecule\n",
    "    new_mol.EndModify()\n",
    "    return new_mol"
   ]
  },
  {
   "cell_type": "code",
   "execution_count": 31,
   "metadata": {},
   "outputs": [],
   "source": [
    "\"\"\"\n",
    "Atom: 6 (0.90 -0.04 0.04)\n",
    "Atom: 6 (2.42 -0.03 0.06)\n",
    "Atom: 6 (2.97 0.70 1.28)\n",
    "Atom: 6 (4.49 0.70 1.29)\n",
    "Atom: 1 (0.53 -0.57 -0.84)\n",
    "Atom: 1 (0.51 0.98 0.02)\n",
    "Atom: 1 (0.51 -0.55 0.93)\n",
    "Atom: 1 (2.79 0.45 -0.86)\n",
    "Atom: 1 (2.79 -1.07 0.04)\n",
    "Atom: 1 (2.60 0.21 2.20)\n",
    "Atom: 1 (2.60 1.73 1.29)\n",
    "Atom: 1 (4.88 -0.32 1.31)\n",
    "Atom: 1 (4.86 1.23 2.18)\n",
    "Atom: 1 (4.88 1.21 0.41)\n",
    "\"\"\"\n",
    "coords = [\n",
    "    (0.90, -0.04,  0.04),\n",
    "    (2.42, -0.03,  0.06),\n",
    "    (2.97,  0.70,  1.28),\n",
    "    (4.49,  0.70,  1.29),\n",
    "    (0.53, -0.57, -0.84),\n",
    "    (0.51,  0.98,  0.02),\n",
    "    (0.51, -0.55,  0.93),\n",
    "    (2.79,  0.45, -0.86),\n",
    "    (2.79, -1.07,  0.04),\n",
    "    (2.60,  0.21,  2.20),\n",
    "    (2.60,  1.73,  1.29),\n",
    "    (4.88, -0.32,  1.31),\n",
    "    (4.86,  1.23,  2.18),\n",
    "    (4.88,  1.21,  0.41),\n",
    "]"
   ]
  },
  {
   "cell_type": "code",
   "execution_count": 32,
   "metadata": {},
   "outputs": [],
   "source": [
    "# lol there is an OBMol method called SetTorsion....\n",
    "# so it may be soooo much easier to use OB for my code"
   ]
  },
  {
   "cell_type": "code",
   "execution_count": 41,
   "metadata": {},
   "outputs": [
    {
     "name": "stdout",
     "output_type": "stream",
     "text": [
      "<openbabel.OBMol; proxy of <Swig Object of type 'OpenBabel::OBMol *' at 0x7f481ca192d0> >\n",
      "0.9 -0.04 0.04\n",
      "2.42 -0.03 0.06\n",
      "2.97 0.7 1.28\n",
      "4.49 0.7 1.29\n",
      "0.53 -0.57 -0.84\n",
      "0.51 0.98 0.02\n",
      "0.51 -0.55 0.93\n",
      "2.79 0.45 -0.86\n",
      "2.79 -1.07 0.04\n",
      "2.6 0.21 2.2\n",
      "2.6 1.73 1.29\n",
      "4.88 -0.32 1.31\n",
      "4.86 1.23 2.18\n",
      "4.88 1.21 0.41\n"
     ]
    }
   ],
   "source": [
    "test1 = pybel.readstring(\"smi\", \"CCCC\")\n",
    "test1.make3D()\n",
    "test1a = test1.OBMol\n",
    "\n",
    "result = new_from_coords(test1a, coords)\n",
    "print(result)\n",
    "for atom in openbabel.OBMolAtomIter(result):\n",
    "    print(atom.x(), atom.y(), atom.z())\n",
    "    "
   ]
  },
  {
   "cell_type": "code",
   "execution_count": 34,
   "metadata": {},
   "outputs": [
    {
     "name": "stdout",
     "output_type": "stream",
     "text": [
      "[(0, 1, 4), (0, 1, 5), (0, 1, 6), (0, 4, 5), (0, 4, 6), (0, 5, 6), (1, 0, 2), (1, 0, 7), (1, 0, 8), (1, 2, 7), (1, 2, 8), (1, 7, 8), (2, 1, 3), (2, 1, 9), (2, 1, 10), (2, 3, 9), (2, 3, 10), (2, 9, 10), (3, 2, 11), (3, 2, 12), (3, 2, 13), (3, 11, 12), (3, 11, 13), (3, 12, 13)]\n",
      "0 1 4\n",
      "0 1 5\n",
      "0 1 6\n",
      "0 4 5\n",
      "0 4 6\n",
      "0 5 6\n",
      "1 0 2\n",
      "1 0 7\n",
      "1 0 8\n",
      "1 2 7\n",
      "1 2 8\n",
      "1 7 8\n",
      "2 1 3\n",
      "2 1 9\n",
      "2 1 10\n",
      "2 3 9\n",
      "2 3 10\n",
      "2 9 10\n",
      "3 2 11\n",
      "3 2 12\n",
      "3 2 13\n",
      "3 11 12\n",
      "3 11 13\n",
      "3 12 13\n"
     ]
    }
   ],
   "source": [
    "o = pybel.readstring(\"smi\", \"CCCC\")\n",
    "o.make3D()\n",
    "o = o.OBMol\n",
    "result = get_angles_list(o)\n",
    "print(result)\n",
    "for bond in result:\n",
    "    a,b,c = bond\n",
    "    print(a,b,c)"
   ]
  },
  {
   "cell_type": "code",
   "execution_count": 44,
   "metadata": {},
   "outputs": [],
   "source": [
    "def get_ff_energy(obmol, ff):\n",
    "    \"\"\"Get the forcefield energy of an openbabel molecule.\n",
    "    \n",
    "    Parameters\n",
    "    ----------\n",
    "    obmol : openbabel.OBMol object\n",
    "        The molecule for which to calculate energy.\n",
    "    ff : str\n",
    "        The forcefield to use.\n",
    "    \n",
    "    Raises\n",
    "    ------\n",
    "    AssertionError\n",
    "        The ff is not available.\n",
    "    ValueError\n",
    "        The calculation did not work.\n",
    "    \n",
    "    Returns\n",
    "    -------\n",
    "    energy : float\n",
    "        The energy of obmol calculated using ff.\n",
    "        Units should be kcal/mol\n",
    "    \n",
    "    \"\"\"\n",
    "    forcefields = pybel.forcefields\n",
    "    assert ff in forcefields\n",
    "    ff_instance = pybel.ob.OBForceField.FindForceField(ff)\n",
    "    result = ff_instance.Setup(obmol)\n",
    "    if not result:\n",
    "        raise ValueError(\"Unable to setup forcefield for molecule\")\n",
    "    energy = ff_instance.Energy(False)\n",
    "    return energy"
   ]
  },
  {
   "cell_type": "code",
   "execution_count": 45,
   "metadata": {},
   "outputs": [],
   "source": [
    "e = get_ff_energy(result, \"mmff94\")"
   ]
  },
  {
   "cell_type": "code",
   "execution_count": 46,
   "metadata": {},
   "outputs": [
    {
     "name": "stdout",
     "output_type": "stream",
     "text": [
      "-4.938610435659327\n"
     ]
    }
   ],
   "source": [
    "print(e)"
   ]
  },
  {
   "cell_type": "code",
   "execution_count": 3,
   "metadata": {},
   "outputs": [
    {
     "name": "stdout",
     "output_type": "stream",
     "text": [
      "0.91883598105288 0.06152576143085063 0.02770234091902385\n",
      "2.438724955724524 0.07115832068566141 0.037337533024885704\n",
      "2.981880081594062 1.0803123614719654 1.0467740861253274\n",
      "4.50176907828565 1.0899443604204602 1.0564092614194764\n",
      "0.5486773378237261 -0.6667174278310838 -0.7007430834070775\n",
      "0.522908924030731 1.0453544203353582 -0.24321606366849535\n",
      "0.5229089343255305 -0.20966586097529188 1.0114557467888372\n",
      "2.804276994593554 0.31478097546258704 -0.9669667478462978\n",
      "2.8042769873347893 -0.9332140685687141 0.2806791436027195\n",
      "2.616327991048092 0.8366897163145175 2.0510783515811233\n",
      "2.6163282852184735 2.084684853312848 0.8034325396701769\n",
      "4.897695786808177 0.10611486358156216 1.327325158741026\n",
      "4.871928114934778 1.8181855848124682 1.7848564395462643\n",
      "4.897696101963415 1.3611382232752307 0.07265646169740268\n",
      "179.99998444374467\n",
      "0.91883598105288 0.06152576143085063 0.02770234091902385\n",
      "2.438724955724524 0.07115832068566141 0.037337533024885704\n",
      "2.981880081594062 1.0803123614719654 1.0467740861253274\n",
      "2.4637760648000655 0.7957876069694944 2.4470819330390308\n",
      "0.5486773378237261 -0.6667174278310838 -0.7007430834070775\n",
      "0.522908924030731 1.0453544203353582 -0.24321606366849535\n",
      "0.5229089343255305 -0.20966586097529188 1.0114557467888372\n",
      "2.804276994593554 0.31478097546258704 -0.9669667478462978\n",
      "2.8042769873347893 -0.9332140685687141 0.2806791436027195\n",
      "2.6897024676315304 2.095275411621543 0.753363741251505\n",
      "4.077546590263393 1.0475971521088865 1.0539812553308092\n",
      "1.3711299394618535 0.8521231528676596 2.479091491690313\n",
      "2.8632671986776828 1.5282646130213169 3.1555115725914678\n",
      "2.7667891994980303 -0.2014519504807452 2.781402431283466\n",
      "57.29577951308232\n"
     ]
    }
   ],
   "source": [
    "# now I want to try and create a molecule\n",
    "# then change its dihedrals\n",
    "# then see if the coordinates changed\n",
    "# then calculate the energy\n",
    "# don't create hydrogens this time\n",
    "# so we keep only one torsion angle\n",
    "# actually that won't work; need to call\n",
    "# make3D() otherwise no coordinates are set\n",
    "orig_mol = pybel.readstring(\"smi\", \"CCCC\")\n",
    "orig_mol.make3D()\n",
    "orig_mol = orig_mol.OBMol\n",
    "for atom in openbabel.OBMolAtomIter(orig_mol):\n",
    "    print(atom.x(), atom.y(), atom.z())\n",
    "t = orig_mol.GetTorsion(1,2,3,4) # note these have to be Idx not index starting from zero (seg fault)\n",
    "print(t) # value in degrees\n",
    "\n",
    "# set torsion requires atom object instances\n",
    "# and input is in radians not degrees\n",
    "atom1 = orig_mol.GetAtom(1)\n",
    "atom2 = orig_mol.GetAtom(2)\n",
    "atom3 = orig_mol.GetAtom(3)\n",
    "atom4 = orig_mol.GetAtom(4)\n",
    "\n",
    "newt = 1 # radian ~57 degrees\n",
    "\n",
    "orig_mol.SetTorsion(atom1, atom2, atom3, atom4, newt)\n",
    "for atom in openbabel.OBMolAtomIter(orig_mol):\n",
    "    print(atom.x(), atom.y(), atom.z())\n",
    "t = orig_mol.GetTorsion(1,2,3,4) # note these have to be Idx not index starting from zero (seg fault)\n",
    "print(t) # value in degrees"
   ]
  },
  {
   "cell_type": "code",
   "execution_count": 4,
   "metadata": {},
   "outputs": [],
   "source": [
    "# okay now we need a way to select important torsion angles\n",
    "# any torsion angles that are completely in rings should\n",
    "# probably not change\n",
    "# torsion angles that can result in H-bonding should\n",
    "# be included, which means we need to screen existing\n",
    "# hydrogens for their suitability for H-bonding"
   ]
  },
  {
   "cell_type": "code",
   "execution_count": 7,
   "metadata": {},
   "outputs": [
    {
     "name": "stdout",
     "output_type": "stream",
     "text": [
      "(0, 1, 2, 3)\n",
      "(1, 2, 3, 4)\n",
      "(2, 3, 4, 5)\n",
      "(3, 4, 5, 6)\n",
      "(4, 5, 6, 7)\n",
      "(4, 5, 6, 8)\n",
      "(5, 6, 8, 9)\n",
      "(7, 6, 8, 9)\n"
     ]
    }
   ],
   "source": [
    "test1 = pybel.readstring(\"smi\", \"CCCCC=C=C(C)CC\")\n",
    "test1a = test1.OBMol\n",
    "\n",
    "for torsion in openbabel.OBMolTorsionIter(test1a):\n",
    "    print(torsion)"
   ]
  },
  {
   "cell_type": "code",
   "execution_count": 8,
   "metadata": {},
   "outputs": [
    {
     "name": "stdout",
     "output_type": "stream",
     "text": [
      "CCCCC=C=C(C)CC\t\n",
      "\n"
     ]
    }
   ],
   "source": [
    "print(test1)"
   ]
  },
  {
   "cell_type": "code",
   "execution_count": 9,
   "metadata": {},
   "outputs": [
    {
     "name": "stdout",
     "output_type": "stream",
     "text": [
      "CCCCC=C=C(C)CC\t\n",
      "\n"
     ]
    }
   ],
   "source": [
    "test1.make3D()\n",
    "print(test1)"
   ]
  },
  {
   "cell_type": "code",
   "execution_count": 10,
   "metadata": {},
   "outputs": [
    {
     "name": "stdout",
     "output_type": "stream",
     "text": [
      "(10, 0, 1, 2)\n",
      "(10, 0, 1, 13)\n",
      "(10, 0, 1, 14)\n",
      "(11, 0, 1, 2)\n",
      "(11, 0, 1, 13)\n",
      "(11, 0, 1, 14)\n",
      "(12, 0, 1, 2)\n",
      "(12, 0, 1, 13)\n",
      "(12, 0, 1, 14)\n",
      "(0, 1, 2, 3)\n",
      "(0, 1, 2, 15)\n",
      "(0, 1, 2, 16)\n",
      "(13, 1, 2, 3)\n",
      "(13, 1, 2, 15)\n",
      "(13, 1, 2, 16)\n",
      "(14, 1, 2, 3)\n",
      "(14, 1, 2, 15)\n",
      "(14, 1, 2, 16)\n",
      "(1, 2, 3, 4)\n",
      "(1, 2, 3, 17)\n",
      "(1, 2, 3, 18)\n",
      "(15, 2, 3, 4)\n",
      "(15, 2, 3, 17)\n",
      "(15, 2, 3, 18)\n",
      "(16, 2, 3, 4)\n",
      "(16, 2, 3, 17)\n",
      "(16, 2, 3, 18)\n",
      "(2, 3, 4, 5)\n",
      "(2, 3, 4, 19)\n",
      "(17, 3, 4, 5)\n",
      "(17, 3, 4, 19)\n",
      "(18, 3, 4, 5)\n",
      "(18, 3, 4, 19)\n",
      "(3, 4, 5, 6)\n",
      "(19, 4, 5, 6)\n",
      "(4, 5, 6, 7)\n",
      "(4, 5, 6, 8)\n",
      "(5, 6, 7, 20)\n",
      "(5, 6, 7, 21)\n",
      "(5, 6, 7, 22)\n",
      "(8, 6, 7, 20)\n",
      "(8, 6, 7, 21)\n",
      "(8, 6, 7, 22)\n",
      "(5, 6, 8, 9)\n",
      "(5, 6, 8, 23)\n",
      "(5, 6, 8, 24)\n",
      "(7, 6, 8, 9)\n",
      "(7, 6, 8, 23)\n",
      "(7, 6, 8, 24)\n",
      "(6, 8, 9, 25)\n",
      "(6, 8, 9, 26)\n",
      "(6, 8, 9, 27)\n",
      "(23, 8, 9, 25)\n",
      "(23, 8, 9, 26)\n",
      "(23, 8, 9, 27)\n",
      "(24, 8, 9, 25)\n",
      "(24, 8, 9, 26)\n",
      "(24, 8, 9, 27)\n"
     ]
    }
   ],
   "source": [
    "for torsion in openbabel.OBMolTorsionIter(test1.OBMol):\n",
    "    print(torsion)"
   ]
  },
  {
   "cell_type": "code",
   "execution_count": null,
   "metadata": {},
   "outputs": [],
   "source": [
    "num_atoms = 10\n",
    "atoms = [3,5,3,2,7,5,3,12,11,100]\n",
    "\n",
    "fours = []\n",
    "for i in range(num_atoms):\n",
    "    four = []\n",
    "    try:\n",
    "        fours.append(atoms[i:i+4])\n",
    "    except IndexError:\n",
    "        if num_atoms % 4 == 0:\n",
    "            fours.append()\n",
    "            fours.append(atoms[-3:]+atoms[0])\n",
    "            fours.append(atoms[-2:]+atoms[:3])\n",
    "            fours.append(atoms[-1]+atoms[:4])\n",
    "        elif num_atoms % 4 == 3:\n",
    "            fours.append(atoms[-3:]+atoms[0])\n",
    "            fours.append(atoms[-2:]+atoms[:3])\n",
    "            fours.append(atoms[-1]+atoms[:4])\n",
    "        elif num_atoms % 4 == 2:\n",
    "            fours.append(atoms[-2:]+atoms[:3])\n",
    "            fours.append(atoms[-1]+atoms[:4])\n",
    "        elif num_atoms % 4 == 1:\n",
    "            fours.append(atoms[-1]+atoms[:4])\n",
    "        \n",
    "print(fours)\n",
    "\n"
   ]
  },
  {
   "cell_type": "code",
   "execution_count": 12,
   "metadata": {},
   "outputs": [
    {
     "name": "stdout",
     "output_type": "stream",
     "text": [
      "None\n"
     ]
    }
   ],
   "source": [
    "l = [1,2,3,4]\n",
    "print(l.reverse())"
   ]
  },
  {
   "cell_type": "code",
   "execution_count": 5,
   "metadata": {},
   "outputs": [],
   "source": [
    "import pybel\n",
    "#mol = pybel.Molecule(OBMol=mol)\n",
    "\n",
    "mol = pybel.readstring(\"smi\", \"CCC\")\n",
    "mol.make3D()\n",
    "mol.draw(filename=\"hello.png\", show=False)\n",
    "# mol write produces seg fault when output format png is used\n",
    "#mol.write(format=\"png\",filename=\"test2.png\", overwrite=True)\n",
    "#mol.write(format=\"sdf\",filename=\"test2.sdf\", overwrite=True)\n"
   ]
  },
  {
   "cell_type": "code",
   "execution_count": 4,
   "metadata": {},
   "outputs": [
    {
     "data": {
      "text/plain": [
       "{'acesin': 'ACES input format',\n",
       " 'adf': 'ADF cartesian input format',\n",
       " 'alc': 'Alchemy format',\n",
       " 'ascii': 'ASCII format',\n",
       " 'bgf': 'MSI BGF format',\n",
       " 'box': 'Dock 3.5 Box format',\n",
       " 'bs': 'Ball and Stick format',\n",
       " 'c3d1': 'Chem3D Cartesian 1 format',\n",
       " 'c3d2': 'Chem3D Cartesian 2 format',\n",
       " 'cac': 'CAChe MolStruct format',\n",
       " 'caccrt': 'Cacao Cartesian format',\n",
       " 'cache': 'CAChe MolStruct format',\n",
       " 'cacint': 'Cacao Internal format',\n",
       " 'can': 'Canonical SMILES format',\n",
       " 'cdjson': 'ChemDoodle JSON',\n",
       " 'cdxml': 'ChemDraw CDXML format',\n",
       " 'cht': 'Chemtool format',\n",
       " 'cif': 'Crystallographic Information File',\n",
       " 'ck': 'ChemKin format',\n",
       " 'cml': 'Chemical Markup Language',\n",
       " 'cmlr': 'CML Reaction format',\n",
       " 'com': 'Gaussian 98/03 Input',\n",
       " 'confabreport': 'Confab report format',\n",
       " 'CONFIG': 'DL-POLY CONFIG',\n",
       " 'CONTCAR': 'VASP format',\n",
       " 'CONTFF': 'MDFF format',\n",
       " 'copy': 'Copy raw text',\n",
       " 'crk2d': 'Chemical Resource Kit diagram(2D)',\n",
       " 'crk3d': 'Chemical Resource Kit 3D format',\n",
       " 'csr': 'Accelrys/MSI Quanta CSR format',\n",
       " 'cssr': 'CSD CSSR format',\n",
       " 'ct': 'ChemDraw Connection Table format',\n",
       " 'cub': 'Gaussian cube format',\n",
       " 'cube': 'Gaussian cube format',\n",
       " 'dalmol': 'DALTON input format',\n",
       " 'dmol': 'DMol3 coordinates format',\n",
       " 'dx': 'OpenDX cube format for APBS',\n",
       " 'ent': 'Protein Data Bank format',\n",
       " 'exyz': 'Extended XYZ cartesian coordinates format',\n",
       " 'fa': 'FASTA format',\n",
       " 'fasta': 'FASTA format',\n",
       " 'feat': 'Feature format',\n",
       " 'fh': 'Fenske-Hall Z-Matrix format',\n",
       " 'fhiaims': 'FHIaims XYZ format',\n",
       " 'fix': 'SMILES FIX format',\n",
       " 'fps': 'FPS text fingerprint format (Dalke)',\n",
       " 'fpt': 'Fingerprint format',\n",
       " 'fract': 'Free Form Fractional format',\n",
       " 'fs': 'Fastsearch format',\n",
       " 'fsa': 'FASTA format',\n",
       " 'gamin': 'GAMESS Input',\n",
       " 'gau': 'Gaussian 98/03 Input',\n",
       " 'gjc': 'Gaussian 98/03 Input',\n",
       " 'gjf': 'Gaussian 98/03 Input',\n",
       " 'gpr': 'Ghemical format',\n",
       " 'gr96': 'GROMOS96 format',\n",
       " 'gro': 'GRO format',\n",
       " 'gukin': 'GAMESS-UK Input',\n",
       " 'gukout': 'GAMESS-UK Output',\n",
       " 'gzmat': 'Gaussian Z-Matrix Input',\n",
       " 'hin': 'HyperChem HIN format',\n",
       " 'inchi': 'InChI format',\n",
       " 'inchikey': 'InChIKey',\n",
       " 'inp': 'GAMESS Input',\n",
       " 'jin': 'Jaguar input format',\n",
       " 'k': 'Compare molecules using InChI',\n",
       " 'lmpdat': 'The LAMMPS data format',\n",
       " 'lpmd': 'LPMD format',\n",
       " 'mcdl': 'MCDL format',\n",
       " 'mcif': 'Macromolecular Crystallographic Info',\n",
       " 'MDFF': 'MDFF format',\n",
       " 'mdl': 'MDL MOL format',\n",
       " 'ml2': 'Sybyl Mol2 format',\n",
       " 'mmcif': 'Macromolecular Crystallographic Info',\n",
       " 'mmd': 'MacroModel format',\n",
       " 'mmod': 'MacroModel format',\n",
       " 'mna': 'Multilevel Neighborhoods of Atoms (MNA)',\n",
       " 'mol': 'MDL MOL format',\n",
       " 'mol2': 'Sybyl Mol2 format',\n",
       " 'mold': 'Molden format',\n",
       " 'molden': 'Molden format',\n",
       " 'molf': 'Molden format',\n",
       " 'molreport': 'Open Babel molecule report',\n",
       " 'mop': 'MOPAC Cartesian format',\n",
       " 'mopcrt': 'MOPAC Cartesian format',\n",
       " 'mopin': 'MOPAC Internal',\n",
       " 'mp': 'Molpro input format',\n",
       " 'mpc': 'MOPAC Cartesian format',\n",
       " 'mpd': 'MolPrint2D format',\n",
       " 'mpqcin': 'MPQC simplified input format',\n",
       " 'mrv': 'Chemical Markup Language',\n",
       " 'msms': \"M.F. Sanner's MSMS input format\",\n",
       " 'nul': 'Outputs nothing',\n",
       " 'nw': 'NWChem input format',\n",
       " 'orcainp': 'ORCA input format',\n",
       " 'outmol': 'DMol3 coordinates format',\n",
       " 'paint': 'Painter format',\n",
       " 'pcjson': 'PubChem JSON',\n",
       " 'pcm': 'PCModel Format',\n",
       " 'pdb': 'Protein Data Bank format',\n",
       " 'pdbqt': 'AutoDock PDBQT format',\n",
       " 'png': 'PNG 2D depiction',\n",
       " 'pointcloud': 'Point cloud on VDW surface',\n",
       " 'POSCAR': 'VASP format',\n",
       " 'POSFF': 'MDFF format',\n",
       " 'pov': 'POV-Ray input format',\n",
       " 'pqr': 'PQR format',\n",
       " 'pqs': 'Parallel Quantum Solutions format',\n",
       " 'qcin': 'Q-Chem input format',\n",
       " 'report': 'Open Babel report format',\n",
       " 'rsmi': 'Reaction SMILES format',\n",
       " 'rxn': 'MDL RXN format',\n",
       " 'sd': 'MDL MOL format',\n",
       " 'sdf': 'MDL MOL format',\n",
       " 'smi': 'SMILES format',\n",
       " 'smiles': 'SMILES format',\n",
       " 'stl': 'STL 3D-printing format',\n",
       " 'svg': 'SVG 2D depiction',\n",
       " 'sy2': 'Sybyl Mol2 format',\n",
       " 'tdd': 'Thermo format',\n",
       " 'text': 'Read and write raw text',\n",
       " 'therm': 'Thermo format',\n",
       " 'tmol': 'TurboMole Coordinate format',\n",
       " 'txt': 'Title format',\n",
       " 'txyz': 'Tinker XYZ format',\n",
       " 'unixyz': 'UniChem XYZ format',\n",
       " 'VASP': 'VASP format',\n",
       " 'vmol': 'ViewMol format',\n",
       " 'xed': 'XED format',\n",
       " 'xyz': 'XYZ cartesian coordinates format',\n",
       " 'yob': 'YASARA.org YOB format',\n",
       " 'zin': 'ZINDO input format'}"
      ]
     },
     "execution_count": 4,
     "metadata": {},
     "output_type": "execute_result"
    }
   ],
   "source": [
    "pybel.outformats"
   ]
  },
  {
   "cell_type": "code",
   "execution_count": null,
   "metadata": {},
   "outputs": [],
   "source": [
    "import openbabel"
   ]
  }
 ],
 "metadata": {
  "kernelspec": {
   "display_name": "Python 3",
   "language": "python",
   "name": "python3"
  },
  "language_info": {
   "codemirror_mode": {
    "name": "ipython",
    "version": 3
   },
   "file_extension": ".py",
   "mimetype": "text/x-python",
   "name": "python",
   "nbconvert_exporter": "python",
   "pygments_lexer": "ipython3",
   "version": "3.7.3"
  }
 },
 "nbformat": 4,
 "nbformat_minor": 2
}
