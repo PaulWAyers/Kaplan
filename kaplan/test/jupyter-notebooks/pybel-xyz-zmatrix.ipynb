{
 "cells": [
  {
   "cell_type": "code",
   "execution_count": null,
   "metadata": {},
   "outputs": [],
   "source": [
    "\"\"\"This notebook acts as a place to test the geometry\n",
    "module of kaplan.\n",
    "\n",
    "Here, the caffeine molecule is found in caffeine.xyz\n",
    "in the same directory as this notebook. It is converted\n",
    "into an Xyz object using vetee. Then, openbabel is used\n",
    "to convert this geometry into zmatrix format. Numpy is\n",
    "used to randomly generate a list of dihedral angles. Then,\n",
    "these dihedral angles replace the original dihedral\n",
    "angles found in the zmatrix. Lastly, the zmatrix with\n",
    "the updated dihedral angles is converted into xyz\n",
    "(cartesian) coordinates using openbabel. The final\n",
    "format of the xyz coordinates is as a list of lists,\n",
    "where we have:\n",
    "result = [[a1,x1,y1,z1], [a2,x2,y2,z2], ..., [an,xn,yn,zn]]\n",
    "\n",
    "In result, the a's are atom strings (for example \"Sn\" would\n",
    "be Tin) and the x's, y's, and z's are components of the\n",
    "cartesian coordinates for that atom.\n",
    "\n",
    "Note: pybel and openbabel are related; pybel is a python\n",
    "wrapper for openbabel with a few syntactic simplicities.\n",
    "\n",
    "\"\"\""
   ]
  },
  {
   "cell_type": "code",
   "execution_count": 24,
   "metadata": {},
   "outputs": [],
   "source": [
    "import pybel\n",
    "import os\n",
    "import vetee\n",
    "import openbabel\n",
    "import numpy as np\n",
    "from vetee.gaussian_options import periodic_table"
   ]
  },
  {
   "cell_type": "code",
   "execution_count": 2,
   "metadata": {},
   "outputs": [
    {
     "name": "stdout",
     "output_type": "stream",
     "text": [
      "/home/jenefre/Documents/python/pybel\n",
      "True\n"
     ]
    }
   ],
   "source": [
    "notebook = os.path.dirname(os.path.realpath(\"__file__\"))\n",
    "caffeine = os.path.join(notebook, \"../testfiles/caffeine.xyz\")\n",
    "print(notebook)\n",
    "print(os.path.isfile(caffeine))"
   ]
  },
  {
   "cell_type": "code",
   "execution_count": 3,
   "metadata": {},
   "outputs": [
    {
     "name": "stdout",
     "output_type": "stream",
     "text": [
      "24\n",
      "caffeine from pubchem\n",
      "O    0.4700    2.5688    0.0006\n",
      "O   -3.1271   -0.4436   -0.0003\n",
      "N   -0.9686   -1.3125    0.0000\n",
      "N    2.2182    0.1412   -0.0003\n",
      "N   -1.3477    1.0797   -0.0001\n",
      "N    1.4119   -1.9372    0.0002\n",
      "C    0.8579    0.2592   -0.0008\n",
      "C    0.3897   -1.0264   -0.0004\n",
      "C    0.0307    1.4220   -0.0006\n",
      "C   -1.9061   -0.2495   -0.0004\n",
      "C    2.5032   -1.1998    0.0003\n",
      "C   -1.4276   -2.6960    0.0008\n",
      "C    3.1926    1.2061    0.0003\n",
      "C   -2.2969    2.1881    0.0007\n",
      "H    3.5163   -1.5787    0.0008\n",
      "H   -1.0451   -3.1973   -0.8937\n",
      "H   -2.5186   -2.7596    0.0011\n",
      "H   -1.0447   -3.1963    0.8957\n",
      "H    4.1992    0.7801    0.0002\n",
      "H    3.0468    1.8092   -0.8992\n",
      "H    3.0466    1.8083    0.9004\n",
      "H   -1.8087    3.1651   -0.0003\n",
      "H   -2.9322    2.1027    0.8881\n",
      "H   -2.9346    2.1021   -0.8849\n",
      "\n"
     ]
    }
   ],
   "source": [
    "caff_str = \"\"\n",
    "with open(caffeine, 'r') as f:\n",
    "    for line in f:\n",
    "        caff_str += line\n",
    "print(caff_str)"
   ]
  },
  {
   "cell_type": "code",
   "execution_count": 4,
   "metadata": {},
   "outputs": [],
   "source": [
    "caff_mol = pybel.readstring(\"xyz\", caff_str)"
   ]
  },
  {
   "cell_type": "code",
   "execution_count": 5,
   "metadata": {},
   "outputs": [
    {
     "name": "stdout",
     "output_type": "stream",
     "text": [
      "O=c1n(c(=O)n(c2ncn(c12)C)C)C\tcaffeine from pubchem\n",
      "\n"
     ]
    }
   ],
   "source": [
    "print(caff_mol)"
   ]
  },
  {
   "cell_type": "code",
   "execution_count": 6,
   "metadata": {},
   "outputs": [],
   "source": [
    "vmol = vetee.xyz.Xyz(caffeine)\n",
    "vmol.charge = 0\n",
    "vmol.multip = 1"
   ]
  },
  {
   "cell_type": "code",
   "execution_count": 7,
   "metadata": {},
   "outputs": [],
   "source": [
    "# from vetee\n",
    "obmol = openbabel.OBMol()\n",
    "# add coordinates for each atom\n",
    "for atom in vmol.coords:\n",
    "    obatom = openbabel.OBAtom()\n",
    "    atomicnum = vetee.gaussian_options.periodic_table(atom[0])\n",
    "    obatom.SetAtomicNum(atomicnum)\n",
    "    obatom.SetVector(atom[1], atom[2], atom[3])\n",
    "    obmol.AddAtom(obatom)\n",
    "# set charge, multiplicity, and comments (title)\n",
    "obmol.SetTotalCharge(vmol.charge)\n",
    "obmol.SetTotalSpinMultiplicity(vmol.multip)\n",
    "obmol.SetTitle(vmol.comments)\n",
    "# convert the obmol to a pybel Molecule\n",
    "pybelmol = pybel.Molecule(obmol)"
   ]
  },
  {
   "cell_type": "code",
   "execution_count": 8,
   "metadata": {},
   "outputs": [
    {
     "name": "stdout",
     "output_type": "stream",
     "text": [
      "#Put Keywords Here, check Charge and Multiplicity.\n",
      "\n",
      " caffeine from pubchem\n",
      "\n",
      "0  1\n",
      "O\n",
      "O  1  r2\n",
      "N  2  r3  1  a3\n",
      "N  1  r4  2  a4  3  d4\n",
      "N  3  r5  1  a5  2  d5\n",
      "N  4  r6  1  a6  2  d6\n",
      "C  4  r7  1  a7  2  d7\n",
      "C  7  r8  4  a8  1  d8\n",
      "C  1  r9  2  a9  3  d9\n",
      "C  2  r10  1  a10  3  d10\n",
      "C  6  r11  4  a11  1  d11\n",
      "C  3  r12  2  a12  1  d12\n",
      "C  4  r13  1  a13  2  d13\n",
      "C  5  r14  2  a14  1  d14\n",
      "H  11  r15  6  a15  4  d15\n",
      "H  12  r16  3  a16  2  d16\n",
      "H  12  r17  3  a17  2  d17\n",
      "H  12  r18  3  a18  2  d18\n",
      "H  13  r19  4  a19  1  d19\n",
      "H  13  r20  4  a20  1  d20\n",
      "H  13  r21  4  a21  1  d21\n",
      "H  14  r22  5  a22  2  d22\n",
      "H  14  r23  5  a23  2  d23\n",
      "H  14  r24  5  a24  2  d24\n",
      "Variables:\n",
      "r2= 4.6919\n",
      "r3= 2.3268\n",
      "a3=  61.87\n",
      "r4= 2.9916\n",
      "a4=  85.81\n",
      "d4=   0.02\n",
      "r5= 2.4221\n",
      "a5=  29.34\n",
      "d5=   0.01\n",
      "r6= 2.2293\n",
      "a6= 123.04\n",
      "d6= 359.96\n",
      "r7= 1.3654\n",
      "a7=  49.28\n",
      "d7=   0.03\n",
      "r8= 1.3682\n",
      "a8= 105.05\n",
      "d8= 180.06\n",
      "r9= 1.2281\n",
      "a9=  29.10\n",
      "d9=   0.10\n",
      "r10= 1.2363\n",
      "a10=  30.91\n",
      "d10= 359.97\n",
      "r11= 1.3171\n",
      "a11=  34.75\n",
      "d11= 180.06\n",
      "r12= 1.4577\n",
      "a12=  93.57\n",
      "d12= 179.96\n",
      "r13= 1.4434\n",
      "a13=  78.22\n",
      "d13= 180.01\n",
      "r14= 1.4593\n",
      "a14=  89.99\n",
      "d14= 180.59\n",
      "r15= 1.0816\n",
      "a15= 125.45\n",
      "d15= 180.00\n",
      "r16= 1.0944\n",
      "a16= 108.92\n",
      "d16= 120.20\n",
      "r17= 1.0929\n",
      "a17= 111.69\n",
      "d17= 359.99\n",
      "r18= 1.0944\n",
      "a18= 108.91\n",
      "d18= 239.78\n",
      "r19= 1.0930\n",
      "a19= 109.52\n",
      "d19= 180.00\n",
      "r20= 1.0927\n",
      "a20= 108.47\n",
      "d20= 299.76\n",
      "r21= 1.0928\n",
      "a21= 108.46\n",
      "d21=  60.24\n",
      "r22= 1.0922\n",
      "a22= 112.87\n",
      "d22= 180.08\n",
      "r23= 1.0947\n",
      "a23= 108.58\n",
      "d23=  58.77\n",
      "r24= 1.0947\n",
      "a24= 108.59\n",
      "d24= 301.39\n",
      "\n",
      "\n"
     ]
    }
   ],
   "source": [
    "zmatrix = pybelmol.write(\"gzmat\")\n",
    "print(zmatrix)"
   ]
  },
  {
   "cell_type": "code",
   "execution_count": 17,
   "metadata": {},
   "outputs": [
    {
     "name": "stdout",
     "output_type": "stream",
     "text": [
      "[130, 116, 127, 355, 161, 145, 25, 109, 277, 164, 207, 240, 282, 116, 20, 292, 186, 83, 240, 177, 45]\n"
     ]
    }
   ],
   "source": [
    "dihedrals = [np.random.randint(0, 360) for i in range(21)]\n",
    "print(dihedrals)"
   ]
  },
  {
   "cell_type": "code",
   "execution_count": 22,
   "metadata": {},
   "outputs": [
    {
     "name": "stdout",
     "output_type": "stream",
     "text": [
      "d4=130\n",
      "d5=116\n",
      "d6=127\n",
      "d7=355\n",
      "d8=161\n",
      "d9=145\n",
      "d10=25\n",
      "d11=109\n",
      "d12=277\n",
      "d13=164\n",
      "d14=207\n",
      "d15=240\n",
      "d16=282\n",
      "d17=116\n",
      "d18=20\n",
      "d19=292\n",
      "d20=186\n",
      "d21=83\n",
      "d22=240\n",
      "d23=177\n",
      "d24=45\n"
     ]
    }
   ],
   "source": [
    "zmatrix_list = zmatrix.split('\\n')\n",
    "dihedral_num = 0\n",
    "for i, line in enumerate(zmatrix_list):\n",
    "    if line.startswith('d') and '=' in line:\n",
    "        line = line[:line.index('=')+1] + str(dihedrals[dihedral_num])\n",
    "        zmatrix_list[i] = line\n",
    "        dihedral_num += 1\n",
    "        print(line)"
   ]
  },
  {
   "cell_type": "code",
   "execution_count": 23,
   "metadata": {},
   "outputs": [
    {
     "name": "stdout",
     "output_type": "stream",
     "text": [
      "#Put Keywords Here, check Charge and Multiplicity.\n",
      "\n",
      " caffeine from pubchem\n",
      "\n",
      "0  1\n",
      "O\n",
      "O  1  r2\n",
      "N  2  r3  1  a3\n",
      "N  1  r4  2  a4  3  d4\n",
      "N  3  r5  1  a5  2  d5\n",
      "N  4  r6  1  a6  2  d6\n",
      "C  4  r7  1  a7  2  d7\n",
      "C  7  r8  4  a8  1  d8\n",
      "C  1  r9  2  a9  3  d9\n",
      "C  2  r10  1  a10  3  d10\n",
      "C  6  r11  4  a11  1  d11\n",
      "C  3  r12  2  a12  1  d12\n",
      "C  4  r13  1  a13  2  d13\n",
      "C  5  r14  2  a14  1  d14\n",
      "H  11  r15  6  a15  4  d15\n",
      "H  12  r16  3  a16  2  d16\n",
      "H  12  r17  3  a17  2  d17\n",
      "H  12  r18  3  a18  2  d18\n",
      "H  13  r19  4  a19  1  d19\n",
      "H  13  r20  4  a20  1  d20\n",
      "H  13  r21  4  a21  1  d21\n",
      "H  14  r22  5  a22  2  d22\n",
      "H  14  r23  5  a23  2  d23\n",
      "H  14  r24  5  a24  2  d24\n",
      "Variables:\n",
      "r2= 4.6919\n",
      "r3= 2.3268\n",
      "a3=  61.87\n",
      "r4= 2.9916\n",
      "a4=  85.81\n",
      "d4=130\n",
      "r5= 2.4221\n",
      "a5=  29.34\n",
      "d5=116\n",
      "r6= 2.2293\n",
      "a6= 123.04\n",
      "d6=127\n",
      "r7= 1.3654\n",
      "a7=  49.28\n",
      "d7=355\n",
      "r8= 1.3682\n",
      "a8= 105.05\n",
      "d8=161\n",
      "r9= 1.2281\n",
      "a9=  29.10\n",
      "d9=145\n",
      "r10= 1.2363\n",
      "a10=  30.91\n",
      "d10=25\n",
      "r11= 1.3171\n",
      "a11=  34.75\n",
      "d11=109\n",
      "r12= 1.4577\n",
      "a12=  93.57\n",
      "d12=277\n",
      "r13= 1.4434\n",
      "a13=  78.22\n",
      "d13=164\n",
      "r14= 1.4593\n",
      "a14=  89.99\n",
      "d14=207\n",
      "r15= 1.0816\n",
      "a15= 125.45\n",
      "d15=240\n",
      "r16= 1.0944\n",
      "a16= 108.92\n",
      "d16=282\n",
      "r17= 1.0929\n",
      "a17= 111.69\n",
      "d17=116\n",
      "r18= 1.0944\n",
      "a18= 108.91\n",
      "d18=20\n",
      "r19= 1.0930\n",
      "a19= 109.52\n",
      "d19=292\n",
      "r20= 1.0927\n",
      "a20= 108.47\n",
      "d20=186\n",
      "r21= 1.0928\n",
      "a21= 108.46\n",
      "d21=83\n",
      "r22= 1.0922\n",
      "a22= 112.87\n",
      "d22=240\n",
      "r23= 1.0947\n",
      "a23= 108.58\n",
      "d23=177\n",
      "r24= 1.0947\n",
      "a24= 108.59\n",
      "d24=45\n",
      "\n",
      "\n"
     ]
    }
   ],
   "source": [
    "new_zmatrix = '\\n'.join(zmatrix_list)\n",
    "print(new_zmatrix)"
   ]
  },
  {
   "cell_type": "code",
   "execution_count": 28,
   "metadata": {},
   "outputs": [],
   "source": [
    "# regenerate an xyz coordinates specification from the zmatrix\n",
    "#caff_mol = pybel.readstring(\"xyz\", caff_str)\n",
    "caff_mol = pybel.readstring(\"gzmat\", new_zmatrix)\n",
    "\n",
    "result_geom = []\n",
    "\n",
    "#mol = pybel.readfile('gzmat', com_file).__next__()\n",
    "for atom in caff_mol.atoms:\n",
    "    result_geom.append([periodic_table(atom.atomicnum), atom.coords[0], atom.coords[1], atom.coords[2]])"
   ]
  },
  {
   "cell_type": "code",
   "execution_count": 29,
   "metadata": {},
   "outputs": [
    {
     "name": "stdout",
     "output_type": "stream",
     "text": [
      "[['O', 0.0, 0.0, 0.0], ['O', 4.6919, 0.0, 0.0], ['N', 3.5948750014016104, 1.2564623099511773e-16, 2.051958672208142], ['N', 0.21857865669282045, 2.285573406140432, -1.917823802121036], ['N', 1.503252913986564, 1.0666955765784696, 1.457109111104285], ['N', -0.8142802326941884, 2.317781994753094, -3.8931575995926977], ['C', 1.1816502665747366, 1.6053279268547342, -1.2292917969456587], ['C', 2.348523652532836, 1.8743823744892163, -1.8910979961843668], ['C', 1.0730796671098546, 0.3425791267036132, -0.48925369695321963], ['C', 3.63118518260272, -0.2683947951742589, 0.5755744956799438], ['C', -0.7833230730049165, 2.8289306558630303, -2.679682791238815], ['C', 3.3957192270227066, 1.4440268975054498, 2.0484108824277607], ['C', -1.1575842207564815, 1.8861139074952171, -2.0910617993172953], ['C', 2.1442235004775005, 2.26951321337531, 1.9785905871549023], ['H', -1.5899054244761082, 2.7864514805518152, -1.960322665877337], ['H', 4.333460915826014, 1.9322688136865867, 2.331203591605515], ['H', 2.335102949390007, 1.7054083147966363, 2.0137226089710505], ['H', 3.4886054872923347, 1.8123501017518602, 1.0220476329557326], ['H', -1.1952778680106986, 0.9012156782552863, -2.563506152650811], ['H', -1.5858666998070472, 2.466633097010846, -2.911771783868732], ['H', -1.7546329335066886, 2.3506346752780165, -1.3024141397748352], ['H', 2.087849527479136, 2.3427154664494005, 3.066875589033205], ['H', 1.3836922651315038, 2.8851650142838845, 2.469440044831206], ['H', 2.7717227412220904, 2.699762939396496, 1.1915086561441224]]\n"
     ]
    }
   ],
   "source": [
    "print(result_geom)"
   ]
  },
  {
   "cell_type": "code",
   "execution_count": null,
   "metadata": {},
   "outputs": [],
   "source": []
  }
 ],
 "metadata": {
  "kernelspec": {
   "display_name": "Python 3",
   "language": "python",
   "name": "python3"
  },
  "language_info": {
   "codemirror_mode": {
    "name": "ipython",
    "version": 3
   },
   "file_extension": ".py",
   "mimetype": "text/x-python",
   "name": "python",
   "nbconvert_exporter": "python",
   "pygments_lexer": "ipython3",
   "version": "3.6.7"
  }
 },
 "nbformat": 4,
 "nbformat_minor": 2
}
