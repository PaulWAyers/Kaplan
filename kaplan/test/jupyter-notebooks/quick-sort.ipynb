{
 "cells": [
  {
   "cell_type": "code",
   "execution_count": 2,
   "metadata": {},
   "outputs": [],
   "source": [
    "# try to implment quick sort algorithm\n",
    "def quicksort(pairs, low, high):\n",
    "    print(pairs)\n",
    "    if low < high:\n",
    "        # after partition, pi is in the correct place\n",
    "        pi = partition(pairs, low, high)\n",
    "        quicksort(pairs, low, pi-1)\n",
    "        quicksort(pairs, pi+1, high)\n",
    "\n",
    "def partition(pairs, low, high):\n",
    "    pivot = pairs[high]\n",
    "    i = (low-1)\n",
    "    for j in range(low, high):\n",
    "        if pairs[j][1] <= pivot[1]:\n",
    "            i += 1\n",
    "            swap(pairs, i, j)\n",
    "    swap(pairs, i+1, high)\n",
    "    return i+1\n",
    "\n",
    "def swap(pairs, i, j):\n",
    "    valuei = pairs[i]\n",
    "    pairs[i] = pairs[j]\n",
    "    pairs[j] = valuei\n",
    "    "
   ]
  },
  {
   "cell_type": "code",
   "execution_count": 5,
   "metadata": {},
   "outputs": [
    {
     "name": "stdout",
     "output_type": "stream",
     "text": [
      "[(0, 5), (1, 3), (2, 2), (3, 5), (4, 1), (5, 8), (6, 19), (7, 0)]\n",
      "[(7, 0), (1, 3), (2, 2), (3, 5), (4, 1), (5, 8), (6, 19), (0, 5)]\n",
      "[(7, 0), (1, 3), (2, 2), (3, 5), (4, 1), (5, 8), (6, 19), (0, 5)]\n",
      "[(7, 0), (1, 3), (2, 2), (3, 5), (4, 1), (0, 5), (6, 19), (5, 8)]\n",
      "[(7, 0), (4, 1), (2, 2), (3, 5), (1, 3), (0, 5), (6, 19), (5, 8)]\n",
      "[(7, 0), (4, 1), (2, 2), (3, 5), (1, 3), (0, 5), (6, 19), (5, 8)]\n",
      "[(7, 0), (4, 1), (2, 2), (1, 3), (3, 5), (0, 5), (6, 19), (5, 8)]\n",
      "[(7, 0), (4, 1), (2, 2), (1, 3), (3, 5), (0, 5), (6, 19), (5, 8)]\n",
      "[(7, 0), (4, 1), (2, 2), (1, 3), (3, 5), (0, 5), (6, 19), (5, 8)]\n",
      "[(7, 0), (4, 1), (2, 2), (1, 3), (3, 5), (0, 5), (5, 8), (6, 19)]\n",
      "[(7, 0), (4, 1), (2, 2), (1, 3), (3, 5), (0, 5), (5, 8), (6, 19)]\n"
     ]
    }
   ],
   "source": [
    "# each pair has the following format:\n",
    "# (location, value)\n",
    "# where location is slot number in the ring and value is fitness\n",
    "\n",
    "test = [\n",
    "    (0, 5),\n",
    "    (1, 3),\n",
    "    (2, 2),\n",
    "    (3, 5),\n",
    "    (4, 1),\n",
    "    (5, 8),\n",
    "    (6, 19),\n",
    "    (7, 0)\n",
    "]\n",
    "\n",
    "quicksort(test, 0, len(test)-1)"
   ]
  }
 ],
 "metadata": {
  "kernelspec": {
   "display_name": "Python 3",
   "language": "python",
   "name": "python3"
  },
  "language_info": {
   "codemirror_mode": {
    "name": "ipython",
    "version": 3
   },
   "file_extension": ".py",
   "mimetype": "text/x-python",
   "name": "python",
   "nbconvert_exporter": "python",
   "pygments_lexer": "ipython3",
   "version": "3.7.2"
  }
 },
 "nbformat": 4,
 "nbformat_minor": 2
}
