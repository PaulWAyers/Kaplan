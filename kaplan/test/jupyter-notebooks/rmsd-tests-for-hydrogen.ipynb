{
 "cells": [
  {
   "cell_type": "code",
   "execution_count": 1,
   "metadata": {},
   "outputs": [],
   "source": [
    "# since we have 5 different geometries the different pairs are:\n",
    "# 0,1  0,2  0,3  0,4\n",
    "# 1,2  1,3  1,4\n",
    "# 2,3  2,4\n",
    "# 3,4\n",
    "# the formula is n!/(2!(n-2)!), which is 10 when n = 5"
   ]
  },
  {
   "cell_type": "code",
   "execution_count": 23,
   "metadata": {},
   "outputs": [],
   "source": [
    "from math import sqrt\n",
    "\n",
    "import rmsd\n",
    "import numpy as np"
   ]
  },
  {
   "cell_type": "code",
   "execution_count": 18,
   "metadata": {},
   "outputs": [],
   "source": [
    "h1 = rmsd.get_coordinates(\"../testfiles/H2-1A.xyz\", \"xyz\")\n",
    "h2 = rmsd.get_coordinates(\"../testfiles/H2-2A.xyz\", \"xyz\")\n",
    "h3 = rmsd.get_coordinates(\"../testfiles/H2-3A.xyz\", \"xyz\")\n",
    "h4 = rmsd.get_coordinates(\"../testfiles/H2-4A.xyz\", \"xyz\")\n",
    "h5 = rmsd.get_coordinates(\"../testfiles/H2-5A.xyz\", \"xyz\")"
   ]
  },
  {
   "cell_type": "code",
   "execution_count": 20,
   "metadata": {},
   "outputs": [],
   "source": [
    "# the get_coordinates function returns a tuple\n",
    "# the first is a list of atoms and the second\n",
    "# is a list of coordinates\n",
    "diffs = []\n",
    "diffs.append(rmsd.rmsd(h1[1], h2[1]))\n",
    "diffs.append(rmsd.rmsd(h1[1], h3[1]))\n",
    "diffs.append(rmsd.rmsd(h1[1], h4[1]))\n",
    "diffs.append(rmsd.rmsd(h1[1], h5[1]))\n",
    "diffs.append(rmsd.rmsd(h2[1], h3[1]))\n",
    "diffs.append(rmsd.rmsd(h2[1], h4[1]))\n",
    "diffs.append(rmsd.rmsd(h2[1], h5[1]))\n",
    "diffs.append(rmsd.rmsd(h3[1], h4[1]))\n",
    "diffs.append(rmsd.rmsd(h3[1], h5[1]))\n",
    "diffs.append(rmsd.rmsd(h4[1], h5[1]))"
   ]
  },
  {
   "cell_type": "code",
   "execution_count": 21,
   "metadata": {},
   "outputs": [
    {
     "data": {
      "text/plain": [
       "[0.7071067811865476,\n",
       " 1.4142135623730951,\n",
       " 2.1213203435596424,\n",
       " 2.8284271247461903,\n",
       " 0.7071067811865476,\n",
       " 1.4142135623730951,\n",
       " 2.1213203435596424,\n",
       " 0.7071067811865476,\n",
       " 1.4142135623730951,\n",
       " 0.7071067811865476]"
      ]
     },
     "execution_count": 21,
     "metadata": {},
     "output_type": "execute_result"
    }
   ],
   "source": [
    "diffs"
   ]
  },
  {
   "cell_type": "code",
   "execution_count": 24,
   "metadata": {},
   "outputs": [],
   "source": [
    "diffs_explicit = []\n",
    "diffs_explicit.append(sqrt(1/2*(1-2)**2))\n",
    "diffs_explicit.append(sqrt(1/2*(1-3)**2))\n",
    "diffs_explicit.append(sqrt(1/2*(1-4)**2))\n",
    "diffs_explicit.append(sqrt(1/2*(1-5)**2))\n",
    "diffs_explicit.append(sqrt(1/2*(2-3)**2))\n",
    "diffs_explicit.append(sqrt(1/2*(2-4)**2))\n",
    "diffs_explicit.append(sqrt(1/2*(2-5)**2))\n",
    "diffs_explicit.append(sqrt(1/2*(3-4)**2))\n",
    "diffs_explicit.append(sqrt(1/2*(3-5)**2))\n",
    "diffs_explicit.append(sqrt(1/2*(4-5)**2))"
   ]
  },
  {
   "cell_type": "code",
   "execution_count": 25,
   "metadata": {},
   "outputs": [
    {
     "data": {
      "text/plain": [
       "[0.7071067811865476,\n",
       " 1.4142135623730951,\n",
       " 2.1213203435596424,\n",
       " 2.8284271247461903,\n",
       " 0.7071067811865476,\n",
       " 1.4142135623730951,\n",
       " 2.1213203435596424,\n",
       " 0.7071067811865476,\n",
       " 1.4142135623730951,\n",
       " 0.7071067811865476]"
      ]
     },
     "execution_count": 25,
     "metadata": {},
     "output_type": "execute_result"
    }
   ],
   "source": [
    "diffs_explicit"
   ]
  },
  {
   "cell_type": "code",
   "execution_count": 26,
   "metadata": {},
   "outputs": [
    {
     "data": {
      "text/plain": [
       "True"
      ]
     },
     "execution_count": 26,
     "metadata": {},
     "output_type": "execute_result"
    }
   ],
   "source": [
    "all(diffs[x] == diffs_explicit[x] for x in range(10))"
   ]
  },
  {
   "cell_type": "code",
   "execution_count": 27,
   "metadata": {},
   "outputs": [
    {
     "data": {
      "text/plain": [
       "14.142135623730953"
      ]
     },
     "execution_count": 27,
     "metadata": {},
     "output_type": "execute_result"
    }
   ],
   "source": [
    "sum(diffs)"
   ]
  },
  {
   "cell_type": "code",
   "execution_count": 28,
   "metadata": {},
   "outputs": [
    {
     "data": {
      "text/plain": [
       "14.142135623730953"
      ]
     },
     "execution_count": 28,
     "metadata": {},
     "output_type": "execute_result"
    }
   ],
   "source": [
    "sum(diffs_explicit)"
   ]
  },
  {
   "cell_type": "code",
   "execution_count": 31,
   "metadata": {},
   "outputs": [],
   "source": [
    "# now we compare the same two inputs\n",
    "equal = rmsd.rmsd(h1[1], h1[1])"
   ]
  },
  {
   "cell_type": "code",
   "execution_count": 32,
   "metadata": {},
   "outputs": [
    {
     "data": {
      "text/plain": [
       "0.0"
      ]
     },
     "execution_count": 32,
     "metadata": {},
     "output_type": "execute_result"
    }
   ],
   "source": [
    "equal"
   ]
  },
  {
   "cell_type": "code",
   "execution_count": 33,
   "metadata": {},
   "outputs": [],
   "source": [
    "htr = rmsd.get_coordinates(\"../testfiles/H2-1A-transrot.xyz\", \"xyz\")"
   ]
  },
  {
   "cell_type": "code",
   "execution_count": 34,
   "metadata": {},
   "outputs": [
    {
     "data": {
      "text/plain": [
       "(array(['H', 'H'], dtype='<U1'), array([[ 7. , -5. ,  0.5],\n",
       "        [ 7. , -5. , -0.5]]))"
      ]
     },
     "execution_count": 34,
     "metadata": {},
     "output_type": "execute_result"
    }
   ],
   "source": [
    "htr"
   ]
  },
  {
   "cell_type": "code",
   "execution_count": 37,
   "metadata": {},
   "outputs": [],
   "source": [
    "htr_new = htr[1] - rmsd.centroid(htr[1])"
   ]
  },
  {
   "cell_type": "code",
   "execution_count": 38,
   "metadata": {},
   "outputs": [],
   "source": [
    "h1_new = h1[1] - rmsd.centroid(h1[1])"
   ]
  },
  {
   "cell_type": "code",
   "execution_count": 39,
   "metadata": {},
   "outputs": [],
   "source": [
    "rotation_matrix = rmsd.kabsch(htr_new, h1_new)"
   ]
  },
  {
   "cell_type": "code",
   "execution_count": 41,
   "metadata": {},
   "outputs": [],
   "source": [
    "htr_rot = np.dot(htr_new, rotation_matrix)"
   ]
  },
  {
   "cell_type": "code",
   "execution_count": 42,
   "metadata": {},
   "outputs": [
    {
     "data": {
      "text/plain": [
       "0.0"
      ]
     },
     "execution_count": 42,
     "metadata": {},
     "output_type": "execute_result"
    }
   ],
   "source": [
    "# should be equal to zero\n",
    "rmsd.rmsd(htr_rot, h1_new)"
   ]
  },
  {
   "cell_type": "code",
   "execution_count": 44,
   "metadata": {},
   "outputs": [
    {
     "data": {
      "text/plain": [
       "8.231038816577165"
      ]
     },
     "execution_count": 44,
     "metadata": {},
     "output_type": "execute_result"
    }
   ],
   "source": [
    "rmsd.rmsd(htr[1], h1[1])"
   ]
  }
 ],
 "metadata": {
  "kernelspec": {
   "display_name": "Python 3",
   "language": "python",
   "name": "python3"
  },
  "language_info": {
   "codemirror_mode": {
    "name": "ipython",
    "version": 3
   },
   "file_extension": ".py",
   "mimetype": "text/x-python",
   "name": "python",
   "nbconvert_exporter": "python",
   "pygments_lexer": "ipython3",
   "version": "3.6.7"
  }
 },
 "nbformat": 4,
 "nbformat_minor": 2
}
