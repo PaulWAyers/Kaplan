{
 "cells": [
  {
   "cell_type": "code",
   "execution_count": 1,
   "metadata": {},
   "outputs": [],
   "source": [
    "import os\n",
    "import psi4"
   ]
  },
  {
   "cell_type": "code",
   "execution_count": 2,
   "metadata": {},
   "outputs": [
    {
     "data": {
      "text/plain": [
       "4000000000"
      ]
     },
     "execution_count": 2,
     "metadata": {},
     "output_type": "execute_result"
    }
   ],
   "source": [
    "RAM = \"4 GB\"\n",
    "psi4.set_memory(RAM)"
   ]
  },
  {
   "cell_type": "code",
   "execution_count": 3,
   "metadata": {},
   "outputs": [],
   "source": [
    "water = psi4.geometry(\"\"\"\n",
    "O\n",
    "H 1 0.96\n",
    "H 1 0.96 2 104.5\n",
    "\"\"\")"
   ]
  },
  {
   "cell_type": "code",
   "execution_count": 6,
   "metadata": {},
   "outputs": [
    {
     "name": "stdout",
     "output_type": "stream",
     "text": [
      "-1.0661355651335747\n",
      "-1.066135586567822\n"
     ]
    }
   ],
   "source": [
    "h2 = psi4.geometry(\"\"\"\n",
    "H 1.0 0.0 0.0\n",
    "H 0.0 0.0 0.0\n",
    "units angstrom\n",
    "\"\"\")\n",
    "e1 = psi4.energy(\"hf/sto-3g\")\n",
    "print(e1)\n",
    "h2_1 = psi4.geometry(\"\"\"\n",
    "H 1.8897259886 0.0 0.0\n",
    "H 0.0 0.0 0.0\n",
    "units bohr\n",
    "\"\"\")\n",
    "\n",
    "1.889726125\n",
    "e2 = psi4.energy(\"hf/sto-3g\")\n",
    "print(e2)"
   ]
  },
  {
   "cell_type": "code",
   "execution_count": 4,
   "metadata": {},
   "outputs": [],
   "source": [
    "psi4_methods = {\"HF\", \"HF-3c\", \"DFT\", \"PBEh-3c\", \"EFP\", \"DCFT\",\n",
    "                \"MP2\", \"MP3\", \"MP2.5\", \"MP4\", \"MP(n)\", \"ZAPT(n)\",\n",
    "                \"LCCD\", \"LCCSD\", \"CEPA(0)\", \"CEPA(1)\", \"CEPA(3)\",\n",
    "                \"CCD\", \"CC2\", \"CCSD\", \"CCSD(T)\", \"CCSD(AT)\", \"CC3\",\n",
    "                \"ACPF\", \"AQCC\", \"CISD\", \"QCISD\", \"QCISD(T)\", \"CI(n)\",\n",
    "                \"FCI\", \"Mk-MRPT2\", \"Mk-MRCCSD\", \"Mk-MRCCSD(T)\",\n",
    "                \"RAS-CI\", \"CASSCF\", \"RASSCF\", \"SAPT\", \"ADC(2)\",\n",
    "                \"EOM-CC2\", \"EOM-CCSD\", \"EOM-CC3\", \"DMRG-CI\",\n",
    "                \"DMRG-SCF\"\n",
    "}"
   ]
  },
  {
   "cell_type": "code",
   "execution_count": null,
   "metadata": {},
   "outputs": [
    {
     "name": "stdout",
     "output_type": "stream",
     "text": [
      "Unable to run: MP4\n",
      "Unable to run: CEPA(3)\n",
      "Unable to run: EOM-CCSD\n",
      "Unable to run: ADC(2)\n",
      "Unable to run: EFP\n",
      "Unable to run: CC2\n",
      "Unable to run: DFT\n",
      "Unable to run: EOM-CC3\n",
      "Unable to run: RAS-CI\n",
      "Unable to run: DMRG-SCF\n",
      "Unable to run: QCISD\n",
      "Unable to run: Mk-MRCCSD\n",
      "Unable to run: DMRG-CI\n",
      "Unable to run: CISD\n",
      "Unable to run: CEPA(1)\n",
      "Unable to run: LCCD\n",
      "Unable to run: CCSD\n",
      "Unable to run: CCD\n",
      "Unable to run: Mk-MRCCSD(T)\n",
      "Unable to run: CEPA(0)\n",
      "Unable to run: AQCC\n",
      "Unable to run: SAPT\n",
      "Unable to run: CCSD(AT)\n",
      "Unable to run: CCSD(T)\n",
      "Unable to run: CI(n)\n",
      "Unable to run: DCFT\n",
      "Unable to run: HF-3c\n",
      "Unable to run: QCISD(T)\n",
      "Unable to run: PBEh-3c\n",
      "Unable to run: MP(n)\n",
      "Unable to run: ZAPT(n)\n",
      "Unable to run: LCCSD\n",
      "Unable to run: MP2.5\n",
      "Unable to run: ACPF\n",
      "Unable to run: EOM-CC2\n",
      "Unable to run: CC3\n",
      "Unable to run: Mk-MRPT2\n"
     ]
    }
   ],
   "source": [
    "#result = psi4.energy(\"HF/STO-3G\")\n",
    "# -74.96340594436472\n",
    "\n",
    "results = {}\n",
    "no_go = []\n",
    "for method in psi4_methods:\n",
    "    try:\n",
    "        results[method] = psi4.energy(method+'/STO-3G')\n",
    "    except Exception as e:\n",
    "        print(f\"Unable to run: {method}\")\n",
    "        no_go.append(method)"
   ]
  },
  {
   "cell_type": "code",
   "execution_count": null,
   "metadata": {},
   "outputs": [
    {
     "data": {
      "text/plain": [
       "{'HF': -74.96340594436452,\n",
       " 'MP3': -75.00871245807201,\n",
       " 'RASSCF': -75.01244891373965,\n",
       " 'CASSCF': -75.0131547026129,\n",
       " 'MP2': -74.99913077798655,\n",
       " 'FCI': -75.01315470259728}"
      ]
     },
     "execution_count": 6,
     "metadata": {},
     "output_type": "execute_result"
    }
   ],
   "source": [
    "results"
   ]
  },
  {
   "cell_type": "code",
   "execution_count": null,
   "metadata": {},
   "outputs": [
    {
     "data": {
      "text/plain": [
       "['MP4',\n",
       " 'CEPA(3)',\n",
       " 'EOM-CCSD',\n",
       " 'ADC(2)',\n",
       " 'EFP',\n",
       " 'CC2',\n",
       " 'DFT',\n",
       " 'EOM-CC3',\n",
       " 'RAS-CI',\n",
       " 'DMRG-SCF',\n",
       " 'QCISD',\n",
       " 'Mk-MRCCSD',\n",
       " 'DMRG-CI',\n",
       " 'CISD',\n",
       " 'CEPA(1)',\n",
       " 'LCCD',\n",
       " 'CCSD',\n",
       " 'CCD',\n",
       " 'Mk-MRCCSD(T)',\n",
       " 'CEPA(0)',\n",
       " 'AQCC',\n",
       " 'SAPT',\n",
       " 'CCSD(AT)',\n",
       " 'CCSD(T)',\n",
       " 'CI(n)',\n",
       " 'DCFT',\n",
       " 'HF-3c',\n",
       " 'QCISD(T)',\n",
       " 'PBEh-3c',\n",
       " 'MP(n)',\n",
       " 'ZAPT(n)',\n",
       " 'LCCSD',\n",
       " 'MP2.5',\n",
       " 'ACPF',\n",
       " 'EOM-CC2',\n",
       " 'CC3',\n",
       " 'Mk-MRPT2']"
      ]
     },
     "execution_count": 7,
     "metadata": {},
     "output_type": "execute_result"
    }
   ],
   "source": [
    "no_go"
   ]
  },
  {
   "cell_type": "code",
   "execution_count": 7,
   "metadata": {},
   "outputs": [],
   "source": [
    "test_file = os.path.dirname(os.path.realpath(\"__file__\"))\n",
    "functionals = os.path.join(test_file, \"../testfiles/dft-functionals.txt\")"
   ]
  },
  {
   "cell_type": "code",
   "execution_count": null,
   "metadata": {},
   "outputs": [
    {
     "name": "stdout",
     "output_type": "stream",
     "text": [
      "\n",
      "Unable to run: b1lyp-d3bj\n",
      "Unable to run: b2gpplyp-d3bj\n",
      "Unable to run: b2plyp-d3bj\n",
      "Unable to run: b2plyp-d3mbj\n",
      "Unable to run: b3lyp-d3bj\n",
      "Unable to run: b3lyp-d3mbj\n",
      "Unable to run: b3p86-d3bj\n",
      "Unable to run: b3pw91-d3bj\n",
      "Unable to run: b88b95-d3bj\n",
      "Unable to run: b97-1-d3bj\n",
      "Unable to run: b97-2-d3bj\n",
      "Unable to run: b97-d3\n",
      "Unable to run: b97-d3bj\n",
      "Unable to run: b97-d3m\n",
      "Unable to run: b97-d3mbj\n",
      "Unable to run: blyp-d3bj\n",
      "Unable to run: blyp-d3mbj\n",
      "Unable to run: bop-d3bj\n",
      "Unable to run: bp86-d3bj\n",
      "Unable to run: bp86-d3mbj\n",
      "Unable to run: cam-b3lyp-d3bj\n",
      "Unable to run: core-dsd-blyp-d3bj\n",
      "Unable to run: dsd-blyp-d3bj\n",
      "Unable to run: dsd-pbeb95-d3bj\n",
      "Unable to run: dsd-pbep86-d3bj\n",
      "Unable to run: dsd-pbepbe-d3bj\n",
      "Unable to run: ft97\n",
      "Unable to run: hcth120-d3bj\n",
      "Unable to run: hcth407-d3bj\n"
     ]
    }
   ],
   "source": [
    "with open(functionals, 'r') as f:\n",
    "    for line in f:\n",
    "        dft = line.split()[0]\n",
    "        try:\n",
    "            results[dft] = psi4.energy(dft+'/STO-3G')\n",
    "        except Exception as e:\n",
    "            print(f\"Unable to run: {dft}\")\n",
    "            no_go.append(dft)"
   ]
  },
  {
   "cell_type": "code",
   "execution_count": null,
   "metadata": {},
   "outputs": [],
   "source": [
    "# note: need newline after triple quotes otherwise get psi4 geom error\n",
    "geom = psi4.geometry(\"\"\"\n",
    "0 1\n",
    "C -0.563 0.516 0.0071\n",
    "C 0.563 -0.5159 0.0071\n",
    "C -1.9293 -0.1506 -0.0071\n",
    "C 1.9294 0.1505 -0.0071\n",
    "H -0.4724 1.1666 -0.8706\n",
    "H -0.4825 1.1551 0.894\n",
    "H 0.4825 -1.1551 0.894\n",
    "H 0.4723 -1.1665 -0.8706\n",
    "H -2.0542 -0.771 -0.9003\n",
    "H -2.0651 -0.7856 0.8742\n",
    "H -2.7203 0.606 -0.0058\n",
    "H 2.0542 0.7709 -0.9003\n",
    "H 2.7202 -0.6062 -0.0059\n",
    "H 2.0652 0.7854 0.8743\n",
    "\"\"\")"
   ]
  },
  {
   "cell_type": "code",
   "execution_count": null,
   "metadata": {},
   "outputs": [],
   "source": []
  }
 ],
 "metadata": {
  "kernelspec": {
   "display_name": "Python 3",
   "language": "python",
   "name": "python3"
  },
  "language_info": {
   "codemirror_mode": {
    "name": "ipython",
    "version": 3
   },
   "file_extension": ".py",
   "mimetype": "text/x-python",
   "name": "python",
   "nbconvert_exporter": "python",
   "pygments_lexer": "ipython3",
   "version": "3.6.8"
  }
 },
 "nbformat": 4,
 "nbformat_minor": 2
}
