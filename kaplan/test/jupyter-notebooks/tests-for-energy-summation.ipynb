{
 "cells": [
  {
   "cell_type": "code",
   "execution_count": 1,
   "metadata": {},
   "outputs": [],
   "source": [
    "import psi4"
   ]
  },
  {
   "cell_type": "code",
   "execution_count": 2,
   "metadata": {},
   "outputs": [],
   "source": [
    "energies = []"
   ]
  },
  {
   "cell_type": "code",
   "execution_count": 3,
   "metadata": {},
   "outputs": [],
   "source": [
    "h1 = \"\"\"\n",
    "     0 1\n",
    "     H 0.0 0.0 0.0\n",
    "     H 1.0 0.0 0.0\n",
    "     \"\"\"\n",
    "mol1 = psi4.geometry(h1)\n",
    "energy1 = psi4.energy(\"hf/sto-3g\")\n",
    "energies.append(energy1)"
   ]
  },
  {
   "cell_type": "code",
   "execution_count": 4,
   "metadata": {},
   "outputs": [],
   "source": [
    "h2 = \"\"\"\n",
    "     0 1\n",
    "     H 0.0 0.0 0.0\n",
    "     H 2.0 0.0 0.0\n",
    "     \"\"\"\n",
    "mol2 = psi4.geometry(h2)\n",
    "energy2 = psi4.energy(\"hf/sto-3g\")\n",
    "energies.append(energy2)"
   ]
  },
  {
   "cell_type": "code",
   "execution_count": 5,
   "metadata": {},
   "outputs": [],
   "source": [
    "h3 = \"\"\"\n",
    "     0 1\n",
    "     H 0.0 0.0 0.0\n",
    "     H 3.0 0.0 0.0\n",
    "     \"\"\"\n",
    "mol3 = psi4.geometry(h3)\n",
    "energy3 = psi4.energy(\"hf/sto-3g\")\n",
    "energies.append(energy3)"
   ]
  },
  {
   "cell_type": "code",
   "execution_count": 6,
   "metadata": {},
   "outputs": [],
   "source": [
    "h4 = \"\"\"\n",
    "     0 1\n",
    "     H 0.0 0.0 0.0\n",
    "     H 4.0 0.0 0.0\n",
    "     \"\"\"\n",
    "mol4 = psi4.geometry(h4)\n",
    "energy4 = psi4.energy(\"hf/sto-3g\")\n",
    "energies.append(energy4)"
   ]
  },
  {
   "cell_type": "code",
   "execution_count": 7,
   "metadata": {},
   "outputs": [],
   "source": [
    "h5 = \"\"\"\n",
    "     0 1\n",
    "     H 0.0 0.0 0.0\n",
    "     H 5.0 0.0 0.0\n",
    "     \"\"\"\n",
    "mol5 = psi4.geometry(h5)\n",
    "energy5 = psi4.energy(\"hf/sto-3g\")\n",
    "energies.append(energy5)"
   ]
  },
  {
   "cell_type": "code",
   "execution_count": 8,
   "metadata": {},
   "outputs": [
    {
     "name": "stdout",
     "output_type": "stream",
     "text": [
      "[-1.0661355651335753, -0.7839052304170298, -0.6561980302276855, -0.6150178744908754, -0.5991720784780843]\n"
     ]
    }
   ],
   "source": [
    "print(energies)"
   ]
  },
  {
   "cell_type": "code",
   "execution_count": 11,
   "metadata": {},
   "outputs": [
    {
     "data": {
      "text/plain": [
       "3.7204287787472503"
      ]
     },
     "execution_count": 11,
     "metadata": {},
     "output_type": "execute_result"
    }
   ],
   "source": [
    "abs(sum(energies))"
   ]
  }
 ],
 "metadata": {
  "kernelspec": {
   "display_name": "Python 3",
   "language": "python",
   "name": "python3"
  },
  "language_info": {
   "codemirror_mode": {
    "name": "ipython",
    "version": 3
   },
   "file_extension": ".py",
   "mimetype": "text/x-python",
   "name": "python",
   "nbconvert_exporter": "python",
   "pygments_lexer": "ipython3",
   "version": "3.6.7"
  }
 },
 "nbformat": 4,
 "nbformat_minor": 2
}
